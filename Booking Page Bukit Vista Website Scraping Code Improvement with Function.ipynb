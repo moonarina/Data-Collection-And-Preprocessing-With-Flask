{
 "cells": [
  {
   "cell_type": "markdown",
   "id": "fa66c1bb",
   "metadata": {},
   "source": [
    "# Import Libraries"
   ]
  },
  {
   "cell_type": "code",
   "execution_count": 1,
   "id": "06b4cc29",
   "metadata": {},
   "outputs": [],
   "source": [
    "import requests\n",
    "from bs4 import BeautifulSoup\n",
    "import time\n",
    "from selenium import webdriver\n",
    "import pandas as pd\n",
    "import numpy as np\n",
    "import re\n",
    "from selenium.webdriver.chrome.options import Options\n",
    "from selenium.webdriver.support.ui import WebDriverWait\n",
    "from selenium.webdriver.support import expected_conditions as EC\n",
    "from selenium.webdriver.common.by import By\n",
    "pd.set_option('display.max_columns', None)\n",
    "pd.set_option(\"display.max_rows\", None)"
   ]
  },
  {
   "cell_type": "markdown",
   "id": "9fc387db",
   "metadata": {},
   "source": [
    "# Make Code Effectively Function"
   ]
  },
  {
   "cell_type": "code",
   "execution_count": 2,
   "id": "6a18740e",
   "metadata": {},
   "outputs": [],
   "source": [
    "def scrape_data(url, url2, container_name, column_name, element, attrs, start, end):\n",
    "    data = []  # List to store data\n",
    "\n",
    "    for page in range(start, end):  # Iterate from start to end page\n",
    "        full_url = f'{url}/{page}'  # Full URL with page number\n",
    "        response = requests.get(full_url)\n",
    "        soup = BeautifulSoup(response.text, 'html.parser')\n",
    "        div_containers = soup.findAll('div', attrs={'class': container_name})\n",
    "\n",
    "        for container in div_containers:\n",
    "            review = container.find(element, attrs=attrs)\n",
    "            if review:\n",
    "                # Get the URL for each title\n",
    "                if url2:\n",
    "                    relative_url = review.find('a')['href']\n",
    "                    absolute_url = f'{url2}/{relative_url}'\n",
    "                    # Visit the URL to get the address\n",
    "                    response = requests.get(absolute_url)\n",
    "                    soup_inner = BeautifulSoup(response.text, 'html.parser')\n",
    "                    address_element = soup_inner.find('address', class_='item-address')\n",
    "                    if address_element:\n",
    "                        address = address_element.text.strip()\n",
    "                        data.append((address))\n",
    "                else:\n",
    "                    data.append(review.text.strip())\n",
    "            else:\n",
    "                item = container.find(element, attrs=attrs)\n",
    "                if item:\n",
    "                    data.append(item.text.strip())\n",
    "\n",
    "    # Create a dataframe from a list of data\n",
    "    df = pd.DataFrame({column_name: data})\n",
    "    print('Total properties acquired:', len(df))\n",
    "    print('Success scraped the data')\n",
    "    # Show dataframe\n",
    "    return df"
   ]
  },
  {
   "cell_type": "markdown",
   "id": "5c70cafc",
   "metadata": {},
   "source": [
    "# Scrape Booking Page on Bukit Vista Website"
   ]
  },
  {
   "cell_type": "markdown",
   "id": "b077b6cd",
   "metadata": {},
   "source": [
    "## Bali Vacation Rentals (https://www.bukitvista.com/bali-vacation-rentals)"
   ]
  },
  {
   "cell_type": "markdown",
   "id": "1e3037f5",
   "metadata": {},
   "source": [
    "### Beachfront Page"
   ]
  },
  {
   "cell_type": "code",
   "execution_count": 3,
   "id": "0338a16f",
   "metadata": {},
   "outputs": [
    {
     "name": "stdout",
     "output_type": "stream",
     "text": [
      "Total properties acquired: 8\n",
      "Success scraped the data\n"
     ]
    }
   ],
   "source": [
    "# Retrieve title data\n",
    "df_beachfront_title = scrape_data('https://www.bukitvista.com/property-type/beachfront/page', '', 'd-flex align-items-center h-100', 'Title', 'h2', {'class': 'item-title'}, 1, 10)"
   ]
  },
  {
   "cell_type": "code",
   "execution_count": 4,
   "id": "63b54bba",
   "metadata": {},
   "outputs": [
    {
     "name": "stdout",
     "output_type": "stream",
     "text": [
      "Total properties acquired: 8\n",
      "Success scraped the data\n"
     ]
    }
   ],
   "source": [
    "# Retrieve address data\n",
    "df_beachfront_address = scrape_data('https://www.bukitvista.com/property-type/beachfront/page', '', 'd-flex align-items-center h-100', 'Address', 'address', {'class': 'item-address'}, 1, 10)"
   ]
  },
  {
   "cell_type": "code",
   "execution_count": 5,
   "id": "0bc03bc0",
   "metadata": {},
   "outputs": [
    {
     "name": "stdout",
     "output_type": "stream",
     "text": [
      "Total properties acquired: 8\n",
      "Success scraped the data\n"
     ]
    }
   ],
   "source": [
    "# Retrieve price data\n",
    "df_beachfront_price = scrape_data('https://www.bukitvista.com/property-type/beachfront/page', '', 'd-flex align-items-center h-100', 'Price', 'li', {'class': 'item-price item-price-text'}, 1, 10)"
   ]
  },
  {
   "cell_type": "code",
   "execution_count": 6,
   "id": "7c8d33ff",
   "metadata": {},
   "outputs": [
    {
     "name": "stdout",
     "output_type": "stream",
     "text": [
      "Total properties acquired: 8\n",
      "Success scraped the data\n"
     ]
    }
   ],
   "source": [
    "# Retrieve bedroom data\n",
    "df_beachfront_bedroom = scrape_data('https://www.bukitvista.com/property-type/beachfront/page', '', 'd-flex align-items-center h-100', 'Bedroom', 'span', {'class': 'hz-figure'}, 1, 10)"
   ]
  },
  {
   "cell_type": "code",
   "execution_count": 7,
   "id": "fb4d4ecf",
   "metadata": {},
   "outputs": [
    {
     "name": "stdout",
     "output_type": "stream",
     "text": [
      "Total properties acquired: 8\n",
      "Success scraped the data\n"
     ]
    }
   ],
   "source": [
    "# Retrieve bathroom data\n",
    "df_beachfront_bathroom = scrape_data('https://www.bukitvista.com/property-type/beachfront/page', '', 'd-flex align-items-center h-100', 'Bathroom', 'span', {'class': 'hz-figure'}, 1, 10)"
   ]
  },
  {
   "cell_type": "code",
   "execution_count": 8,
   "id": "c9c36221",
   "metadata": {},
   "outputs": [
    {
     "name": "stdout",
     "output_type": "stream",
     "text": [
      "Total properties acquired:  8\n"
     ]
    },
    {
     "data": {
      "text/html": [
       "<div>\n",
       "<style scoped>\n",
       "    .dataframe tbody tr th:only-of-type {\n",
       "        vertical-align: middle;\n",
       "    }\n",
       "\n",
       "    .dataframe tbody tr th {\n",
       "        vertical-align: top;\n",
       "    }\n",
       "\n",
       "    .dataframe thead th {\n",
       "        text-align: right;\n",
       "    }\n",
       "</style>\n",
       "<table border=\"1\" class=\"dataframe\">\n",
       "  <thead>\n",
       "    <tr style=\"text-align: right;\">\n",
       "      <th></th>\n",
       "      <th>Title</th>\n",
       "      <th>Address</th>\n",
       "      <th>Price</th>\n",
       "      <th>Bedroom</th>\n",
       "      <th>Bathroom</th>\n",
       "    </tr>\n",
       "  </thead>\n",
       "  <tbody>\n",
       "    <tr>\n",
       "      <th>0</th>\n",
       "      <td>Beachfront Bungalow w/ Sunset View</td>\n",
       "      <td>Jl. Ped - Buyuk, Banjar Bodong, Desa Ped, Kec ...</td>\n",
       "      <td>Start from USD $41 per night</td>\n",
       "      <td>1</td>\n",
       "      <td>1</td>\n",
       "    </tr>\n",
       "    <tr>\n",
       "      <th>1</th>\n",
       "      <td>Soothing Sound of the Waves in a Beachfront Cabin</td>\n",
       "      <td>Jalan Raya Ped Banjar Bodong Desa Ped Nusa Pen...</td>\n",
       "      <td>Start from $23 per night</td>\n",
       "      <td>1</td>\n",
       "      <td>1</td>\n",
       "    </tr>\n",
       "    <tr>\n",
       "      <th>2</th>\n",
       "      <td>Nusa Penida New Beachfront Cottage with Cute Pool</td>\n",
       "      <td>Jl. Batumulapan, Batununggul, Kec. Nusa Penida,</td>\n",
       "      <td>Start from $29 USD per night</td>\n",
       "      <td>1</td>\n",
       "      <td>1</td>\n",
       "    </tr>\n",
       "    <tr>\n",
       "      <th>3</th>\n",
       "      <td>Minimalist Room with Superb Ocean View at Bingin</td>\n",
       "      <td>Jl. Pantai Bingin, Pecatu, Kuta Sel., Kabupate...</td>\n",
       "      <td>Start from $1,060 USD per Month</td>\n",
       "      <td>1</td>\n",
       "      <td>1</td>\n",
       "    </tr>\n",
       "    <tr>\n",
       "      <th>4</th>\n",
       "      <td>Bohemian Beachfront Surf Villa by the Bingin B...</td>\n",
       "      <td>Jl. Pantai Bingin, Pecatu, Kec. Kuta Sel., Kab...</td>\n",
       "      <td>Start from $5,590 USD per Month</td>\n",
       "      <td>4</td>\n",
       "      <td>4</td>\n",
       "    </tr>\n",
       "  </tbody>\n",
       "</table>\n",
       "</div>"
      ],
      "text/plain": [
       "                                               Title  \\\n",
       "0                 Beachfront Bungalow w/ Sunset View   \n",
       "1  Soothing Sound of the Waves in a Beachfront Cabin   \n",
       "2  Nusa Penida New Beachfront Cottage with Cute Pool   \n",
       "3   Minimalist Room with Superb Ocean View at Bingin   \n",
       "4  Bohemian Beachfront Surf Villa by the Bingin B...   \n",
       "\n",
       "                                             Address  \\\n",
       "0  Jl. Ped - Buyuk, Banjar Bodong, Desa Ped, Kec ...   \n",
       "1  Jalan Raya Ped Banjar Bodong Desa Ped Nusa Pen...   \n",
       "2    Jl. Batumulapan, Batununggul, Kec. Nusa Penida,   \n",
       "3  Jl. Pantai Bingin, Pecatu, Kuta Sel., Kabupate...   \n",
       "4  Jl. Pantai Bingin, Pecatu, Kec. Kuta Sel., Kab...   \n",
       "\n",
       "                             Price Bedroom Bathroom  \n",
       "0     Start from USD $41 per night       1        1  \n",
       "1         Start from $23 per night       1        1  \n",
       "2     Start from $29 USD per night       1        1  \n",
       "3  Start from $1,060 USD per Month       1        1  \n",
       "4  Start from $5,590 USD per Month       4        4  "
      ]
     },
     "execution_count": 8,
     "metadata": {},
     "output_type": "execute_result"
    }
   ],
   "source": [
    "df_beachfront = pd.concat([df_beachfront_title, df_beachfront_address, df_beachfront_price, df_beachfront_bedroom, df_beachfront_bathroom], axis=1)\n",
    "print('Total properties acquired: ', len(df_beachfront))\n",
    "df_beachfront.head()"
   ]
  },
  {
   "cell_type": "markdown",
   "id": "5e984bdc",
   "metadata": {},
   "source": [
    "### Island Life"
   ]
  },
  {
   "cell_type": "code",
   "execution_count": 9,
   "id": "c6ad796e",
   "metadata": {},
   "outputs": [
    {
     "name": "stdout",
     "output_type": "stream",
     "text": [
      "Total properties acquired: 2\n",
      "Success scraped the data\n"
     ]
    }
   ],
   "source": [
    "# Retrieve title data\n",
    "df_island_life_title = scrape_data('https://www.bukitvista.com/property-type/island-life/page', '', 'd-flex align-items-center h-100', 'Title', 'h2', {'class': 'item-title'}, 1, 10)"
   ]
  },
  {
   "cell_type": "code",
   "execution_count": 10,
   "id": "4a04f197",
   "metadata": {},
   "outputs": [
    {
     "name": "stdout",
     "output_type": "stream",
     "text": [
      "Total properties acquired: 2\n",
      "Success scraped the data\n"
     ]
    }
   ],
   "source": [
    "# Retrieve address data\n",
    "df_island_life_address = scrape_data('https://www.bukitvista.com/property-type/island-life/page', '', 'd-flex align-items-center h-100', 'Address', 'address', {'class': 'item-address'}, 1, 10)"
   ]
  },
  {
   "cell_type": "code",
   "execution_count": 11,
   "id": "8993eaca",
   "metadata": {},
   "outputs": [
    {
     "name": "stdout",
     "output_type": "stream",
     "text": [
      "Total properties acquired: 2\n",
      "Success scraped the data\n"
     ]
    }
   ],
   "source": [
    "# Retrieve price data\n",
    "df_island_life_price = scrape_data('https://www.bukitvista.com/property-type/island-life/page', '', 'd-flex align-items-center h-100', 'Price', 'li', {'class': 'item-price item-price-text'}, 1, 10)"
   ]
  },
  {
   "cell_type": "code",
   "execution_count": 12,
   "id": "f29f9cd8",
   "metadata": {},
   "outputs": [
    {
     "name": "stdout",
     "output_type": "stream",
     "text": [
      "Total properties acquired: 2\n",
      "Success scraped the data\n"
     ]
    }
   ],
   "source": [
    "# Retrieve bedroom data\n",
    "df_island_life_bedroom = scrape_data('https://www.bukitvista.com/property-type/island-life/page', '', 'd-flex align-items-center h-100', 'Bedroom', 'span', {'class': 'hz-figure'}, 1, 10)"
   ]
  },
  {
   "cell_type": "code",
   "execution_count": 13,
   "id": "f76aef97",
   "metadata": {},
   "outputs": [
    {
     "name": "stdout",
     "output_type": "stream",
     "text": [
      "Total properties acquired: 2\n",
      "Success scraped the data\n"
     ]
    }
   ],
   "source": [
    "# Retrieve bathroom data\n",
    "df_island_life_bathroom = scrape_data('https://www.bukitvista.com/property-type/island-life/page', '', 'd-flex align-items-center h-100', 'Bathroom', 'span', {'class': 'hz-figure'}, 1, 10)"
   ]
  },
  {
   "cell_type": "code",
   "execution_count": 14,
   "id": "6b68c4f2",
   "metadata": {},
   "outputs": [
    {
     "name": "stdout",
     "output_type": "stream",
     "text": [
      "Total properties acquired:  2\n"
     ]
    },
    {
     "data": {
      "text/html": [
       "<div>\n",
       "<style scoped>\n",
       "    .dataframe tbody tr th:only-of-type {\n",
       "        vertical-align: middle;\n",
       "    }\n",
       "\n",
       "    .dataframe tbody tr th {\n",
       "        vertical-align: top;\n",
       "    }\n",
       "\n",
       "    .dataframe thead th {\n",
       "        text-align: right;\n",
       "    }\n",
       "</style>\n",
       "<table border=\"1\" class=\"dataframe\">\n",
       "  <thead>\n",
       "    <tr style=\"text-align: right;\">\n",
       "      <th></th>\n",
       "      <th>Title</th>\n",
       "      <th>Address</th>\n",
       "      <th>Price</th>\n",
       "      <th>Bedroom</th>\n",
       "      <th>Bathroom</th>\n",
       "    </tr>\n",
       "  </thead>\n",
       "  <tbody>\n",
       "    <tr>\n",
       "      <th>0</th>\n",
       "      <td>Peaceful Wooden Cabin in Ubud Beautiful Ricefield</td>\n",
       "      <td>Banjar Dukuh, Kenderan, Kec. Tegallalang, Kabu...</td>\n",
       "      <td>Start from $26 USD</td>\n",
       "      <td>1</td>\n",
       "      <td>1</td>\n",
       "    </tr>\n",
       "    <tr>\n",
       "      <th>1</th>\n",
       "      <td>Enchanting Hillside Cabin w/ Pool @ Uluwatu Te...</td>\n",
       "      <td>Pecatu, Kec. Kuta Sel., Kabupaten Badung, Bali</td>\n",
       "      <td>Start from $1,380 per Month</td>\n",
       "      <td>1</td>\n",
       "      <td>1</td>\n",
       "    </tr>\n",
       "  </tbody>\n",
       "</table>\n",
       "</div>"
      ],
      "text/plain": [
       "                                               Title  \\\n",
       "0  Peaceful Wooden Cabin in Ubud Beautiful Ricefield   \n",
       "1  Enchanting Hillside Cabin w/ Pool @ Uluwatu Te...   \n",
       "\n",
       "                                             Address  \\\n",
       "0  Banjar Dukuh, Kenderan, Kec. Tegallalang, Kabu...   \n",
       "1     Pecatu, Kec. Kuta Sel., Kabupaten Badung, Bali   \n",
       "\n",
       "                         Price Bedroom Bathroom  \n",
       "0           Start from $26 USD       1        1  \n",
       "1  Start from $1,380 per Month       1        1  "
      ]
     },
     "execution_count": 14,
     "metadata": {},
     "output_type": "execute_result"
    }
   ],
   "source": [
    "df_island_life = pd.concat([df_island_life_title, df_island_life_address, df_island_life_price, df_island_life_bedroom, df_island_life_bathroom], axis=1)\n",
    "print('Total properties acquired: ', len(df_island_life))\n",
    "df_island_life.head()"
   ]
  },
  {
   "cell_type": "markdown",
   "id": "9f00cc83",
   "metadata": {},
   "source": [
    "### Jungle View"
   ]
  },
  {
   "cell_type": "code",
   "execution_count": 15,
   "id": "d367240a",
   "metadata": {},
   "outputs": [
    {
     "name": "stdout",
     "output_type": "stream",
     "text": [
      "Total properties acquired: 6\n",
      "Success scraped the data\n"
     ]
    }
   ],
   "source": [
    "# Retrieve title data\n",
    "df_jungle_view_title = scrape_data('https://www.bukitvista.com/property-type/jungle-view/page', '', 'd-flex align-items-center h-100', 'Title', 'h2', {'class': 'item-title'}, 1, 10)"
   ]
  },
  {
   "cell_type": "code",
   "execution_count": 16,
   "id": "80d9377b",
   "metadata": {},
   "outputs": [
    {
     "name": "stdout",
     "output_type": "stream",
     "text": [
      "Total properties acquired: 6\n",
      "Success scraped the data\n"
     ]
    }
   ],
   "source": [
    "# Retrieve address data\n",
    "df_jungle_view_address = scrape_data('https://www.bukitvista.com/property-type/jungle-view/page', '', 'd-flex align-items-center h-100', 'Address', 'address', {'class': 'item-address'}, 1, 10)"
   ]
  },
  {
   "cell_type": "code",
   "execution_count": 17,
   "id": "9fbb39cb",
   "metadata": {},
   "outputs": [
    {
     "name": "stdout",
     "output_type": "stream",
     "text": [
      "Total properties acquired: 6\n",
      "Success scraped the data\n"
     ]
    }
   ],
   "source": [
    "# Retrieve price data\n",
    "df_jungle_view_price = scrape_data('https://www.bukitvista.com/property-type/jungle-view/page', '', 'd-flex align-items-center h-100', 'Price', 'li', {'class': 'item-price item-price-text'}, 1, 10)"
   ]
  },
  {
   "cell_type": "code",
   "execution_count": 18,
   "id": "ccdfd110",
   "metadata": {},
   "outputs": [
    {
     "name": "stdout",
     "output_type": "stream",
     "text": [
      "Total properties acquired: 6\n",
      "Success scraped the data\n"
     ]
    }
   ],
   "source": [
    "# Retrieve bedroom data\n",
    "df_jungle_view_bedroom = scrape_data('https://www.bukitvista.com/property-type/jungle-view/page', '', 'd-flex align-items-center h-100', 'Bedroom', 'span', {'class': 'hz-figure'}, 1, 10)"
   ]
  },
  {
   "cell_type": "code",
   "execution_count": 19,
   "id": "89c84d80",
   "metadata": {},
   "outputs": [
    {
     "name": "stdout",
     "output_type": "stream",
     "text": [
      "Total properties acquired: 6\n",
      "Success scraped the data\n"
     ]
    }
   ],
   "source": [
    "# Retrieve bathroom data\n",
    "df_jungle_view_bathroom = scrape_data('https://www.bukitvista.com/property-type/jungle-view/page', '', 'd-flex align-items-center h-100', 'Bathroom', 'span', {'class': 'hz-figure'}, 1, 10)"
   ]
  },
  {
   "cell_type": "code",
   "execution_count": 20,
   "id": "7636b93c",
   "metadata": {},
   "outputs": [
    {
     "name": "stdout",
     "output_type": "stream",
     "text": [
      "Total properties acquired:  6\n"
     ]
    },
    {
     "data": {
      "text/html": [
       "<div>\n",
       "<style scoped>\n",
       "    .dataframe tbody tr th:only-of-type {\n",
       "        vertical-align: middle;\n",
       "    }\n",
       "\n",
       "    .dataframe tbody tr th {\n",
       "        vertical-align: top;\n",
       "    }\n",
       "\n",
       "    .dataframe thead th {\n",
       "        text-align: right;\n",
       "    }\n",
       "</style>\n",
       "<table border=\"1\" class=\"dataframe\">\n",
       "  <thead>\n",
       "    <tr style=\"text-align: right;\">\n",
       "      <th></th>\n",
       "      <th>Title</th>\n",
       "      <th>Address</th>\n",
       "      <th>Price</th>\n",
       "      <th>Bedroom</th>\n",
       "      <th>Bathroom</th>\n",
       "    </tr>\n",
       "  </thead>\n",
       "  <tbody>\n",
       "    <tr>\n",
       "      <th>0</th>\n",
       "      <td>Ubud Summer House on the Edge of the Wilderness</td>\n",
       "      <td>Jl. Gn. Sari, Kecamatan Ubud, Kabupaten Gianya...</td>\n",
       "      <td>Start from $1,980 USD per Month</td>\n",
       "      <td>3</td>\n",
       "      <td>3</td>\n",
       "    </tr>\n",
       "    <tr>\n",
       "      <th>1</th>\n",
       "      <td>Peaceful Wooden Cabin in Ubud Beautiful Ricefield</td>\n",
       "      <td>Banjar Dukuh, Kenderan, Kec. Tegallalang, Kabu...</td>\n",
       "      <td>Start from $26 USD</td>\n",
       "      <td>1</td>\n",
       "      <td>1</td>\n",
       "    </tr>\n",
       "    <tr>\n",
       "      <th>2</th>\n",
       "      <td>Monumental Ubud Bamboo House Jungle View</td>\n",
       "      <td>Jalan Tanah Ayu, Sibang Gede, Abiansemal, Kabu...</td>\n",
       "      <td>Start from $5,260 USD per Month</td>\n",
       "      <td>3</td>\n",
       "      <td>3</td>\n",
       "    </tr>\n",
       "    <tr>\n",
       "      <th>3</th>\n",
       "      <td>Serene Cabin with Gym &amp; Fast Wifi in Uluwatu</td>\n",
       "      <td>Jalan Raya Uluwatu, Pecatu, South Kuta, Badung...</td>\n",
       "      <td>Start from $730 USD per Month</td>\n",
       "      <td>1</td>\n",
       "      <td>1</td>\n",
       "    </tr>\n",
       "    <tr>\n",
       "      <th>4</th>\n",
       "      <td>Ecstatic Villa in Ubud w/ Greenery Garden View</td>\n",
       "      <td>Jl. Tirta Tawar, Petulu, Kecamatan Ubud, Kabup...</td>\n",
       "      <td>Start from $690 USD per Month</td>\n",
       "      <td>1</td>\n",
       "      <td>1</td>\n",
       "    </tr>\n",
       "  </tbody>\n",
       "</table>\n",
       "</div>"
      ],
      "text/plain": [
       "                                               Title  \\\n",
       "0    Ubud Summer House on the Edge of the Wilderness   \n",
       "1  Peaceful Wooden Cabin in Ubud Beautiful Ricefield   \n",
       "2           Monumental Ubud Bamboo House Jungle View   \n",
       "3       Serene Cabin with Gym & Fast Wifi in Uluwatu   \n",
       "4     Ecstatic Villa in Ubud w/ Greenery Garden View   \n",
       "\n",
       "                                             Address  \\\n",
       "0  Jl. Gn. Sari, Kecamatan Ubud, Kabupaten Gianya...   \n",
       "1  Banjar Dukuh, Kenderan, Kec. Tegallalang, Kabu...   \n",
       "2  Jalan Tanah Ayu, Sibang Gede, Abiansemal, Kabu...   \n",
       "3  Jalan Raya Uluwatu, Pecatu, South Kuta, Badung...   \n",
       "4  Jl. Tirta Tawar, Petulu, Kecamatan Ubud, Kabup...   \n",
       "\n",
       "                             Price Bedroom Bathroom  \n",
       "0  Start from $1,980 USD per Month       3        3  \n",
       "1               Start from $26 USD       1        1  \n",
       "2  Start from $5,260 USD per Month       3        3  \n",
       "3    Start from $730 USD per Month       1        1  \n",
       "4    Start from $690 USD per Month       1        1  "
      ]
     },
     "execution_count": 20,
     "metadata": {},
     "output_type": "execute_result"
    }
   ],
   "source": [
    "df_jungle_view = pd.concat([df_jungle_view_title, df_jungle_view_address, df_jungle_view_price, df_jungle_view_bedroom, df_jungle_view_bathroom], axis=1)\n",
    "print('Total properties acquired: ', len(df_jungle_view))\n",
    "df_jungle_view.head()"
   ]
  },
  {
   "cell_type": "markdown",
   "id": "fe40f35e",
   "metadata": {},
   "source": [
    "### Ocean View"
   ]
  },
  {
   "cell_type": "code",
   "execution_count": 21,
   "id": "86202091",
   "metadata": {},
   "outputs": [
    {
     "name": "stdout",
     "output_type": "stream",
     "text": [
      "Total properties acquired: 3\n",
      "Success scraped the data\n"
     ]
    }
   ],
   "source": [
    "# Retrieve title data\n",
    "df_ocean_view_title = scrape_data('https://www.bukitvista.com/property-type/ocean-view/page', '', 'd-flex align-items-center h-100', 'Title', 'h2', {'class': 'item-title'}, 1, 10)"
   ]
  },
  {
   "cell_type": "code",
   "execution_count": 22,
   "id": "836a116c",
   "metadata": {},
   "outputs": [
    {
     "name": "stdout",
     "output_type": "stream",
     "text": [
      "Total properties acquired: 3\n",
      "Success scraped the data\n"
     ]
    }
   ],
   "source": [
    "# Retrieve address data\n",
    "df_ocean_view_address = scrape_data('https://www.bukitvista.com/property-type/ocean-view/page', '', 'd-flex align-items-center h-100', 'Address', 'address', {'class': 'item-address'}, 1, 10)"
   ]
  },
  {
   "cell_type": "code",
   "execution_count": 23,
   "id": "bfb8a84a",
   "metadata": {},
   "outputs": [
    {
     "name": "stdout",
     "output_type": "stream",
     "text": [
      "Total properties acquired: 3\n",
      "Success scraped the data\n"
     ]
    }
   ],
   "source": [
    "# Retrieve price data\n",
    "df_ocean_view_price = scrape_data('https://www.bukitvista.com/property-type/ocean-view/page', '', 'd-flex align-items-center h-100', 'Price', 'li', {'class': 'item-price item-price-text'}, 1, 10)"
   ]
  },
  {
   "cell_type": "code",
   "execution_count": 24,
   "id": "0eb08e21",
   "metadata": {},
   "outputs": [
    {
     "name": "stdout",
     "output_type": "stream",
     "text": [
      "Total properties acquired: 3\n",
      "Success scraped the data\n"
     ]
    }
   ],
   "source": [
    "# Retrieve bedroom data\n",
    "df_ocean_view_bedroom = scrape_data('https://www.bukitvista.com/property-type/ocean-view/page', '', 'd-flex align-items-center h-100', 'Bedroom', 'span', {'class': 'hz-figure'}, 1, 10)"
   ]
  },
  {
   "cell_type": "code",
   "execution_count": 25,
   "id": "67168161",
   "metadata": {},
   "outputs": [
    {
     "name": "stdout",
     "output_type": "stream",
     "text": [
      "Total properties acquired: 3\n",
      "Success scraped the data\n"
     ]
    }
   ],
   "source": [
    "# Retrieve bathroom data\n",
    "df_ocean_view_bathroom = scrape_data('https://www.bukitvista.com/property-type/ocean-view/page', '', 'd-flex align-items-center h-100', 'Bathroom', 'span', {'class': 'hz-figure'}, 1, 10)"
   ]
  },
  {
   "cell_type": "code",
   "execution_count": 26,
   "id": "8f893e69",
   "metadata": {},
   "outputs": [
    {
     "name": "stdout",
     "output_type": "stream",
     "text": [
      "Total properties acquired:  3\n"
     ]
    },
    {
     "data": {
      "text/html": [
       "<div>\n",
       "<style scoped>\n",
       "    .dataframe tbody tr th:only-of-type {\n",
       "        vertical-align: middle;\n",
       "    }\n",
       "\n",
       "    .dataframe tbody tr th {\n",
       "        vertical-align: top;\n",
       "    }\n",
       "\n",
       "    .dataframe thead th {\n",
       "        text-align: right;\n",
       "    }\n",
       "</style>\n",
       "<table border=\"1\" class=\"dataframe\">\n",
       "  <thead>\n",
       "    <tr style=\"text-align: right;\">\n",
       "      <th></th>\n",
       "      <th>Title</th>\n",
       "      <th>Address</th>\n",
       "      <th>Price</th>\n",
       "      <th>Bedroom</th>\n",
       "      <th>Bathroom</th>\n",
       "    </tr>\n",
       "  </thead>\n",
       "  <tbody>\n",
       "    <tr>\n",
       "      <th>0</th>\n",
       "      <td>Mesmerizing 2BR Kokomo Villa in Umalas with Pool</td>\n",
       "      <td>Jl. Bumbak Umalas, Kerobokan Kelod, Kuta Utara...</td>\n",
       "      <td>Start from $4,750 USD per Month</td>\n",
       "      <td>2</td>\n",
       "      <td>2</td>\n",
       "    </tr>\n",
       "    <tr>\n",
       "      <th>1</th>\n",
       "      <td>Stunning Ocean View Nusa Dua Villa + Infinity ...</td>\n",
       "      <td>Jl. Raya Nusa Dua Selatan, Sawangan, Nusa Dua,...</td>\n",
       "      <td>Start from $13,160 USD per Month</td>\n",
       "      <td>3</td>\n",
       "      <td>3</td>\n",
       "    </tr>\n",
       "    <tr>\n",
       "      <th>2</th>\n",
       "      <td>Breathtaking Bingin Ocean View Room for Surfer</td>\n",
       "      <td>Pecatu, Kec. Kuta Sel., Kabupaten Badung, Bali...</td>\n",
       "      <td>Start from $1,580 USD per Month</td>\n",
       "      <td>1</td>\n",
       "      <td>1</td>\n",
       "    </tr>\n",
       "  </tbody>\n",
       "</table>\n",
       "</div>"
      ],
      "text/plain": [
       "                                               Title  \\\n",
       "0   Mesmerizing 2BR Kokomo Villa in Umalas with Pool   \n",
       "1  Stunning Ocean View Nusa Dua Villa + Infinity ...   \n",
       "2     Breathtaking Bingin Ocean View Room for Surfer   \n",
       "\n",
       "                                             Address  \\\n",
       "0  Jl. Bumbak Umalas, Kerobokan Kelod, Kuta Utara...   \n",
       "1  Jl. Raya Nusa Dua Selatan, Sawangan, Nusa Dua,...   \n",
       "2  Pecatu, Kec. Kuta Sel., Kabupaten Badung, Bali...   \n",
       "\n",
       "                              Price Bedroom Bathroom  \n",
       "0   Start from $4,750 USD per Month       2        2  \n",
       "1  Start from $13,160 USD per Month       3        3  \n",
       "2   Start from $1,580 USD per Month       1        1  "
      ]
     },
     "execution_count": 26,
     "metadata": {},
     "output_type": "execute_result"
    }
   ],
   "source": [
    "df_ocean_view = pd.concat([df_ocean_view_title, df_ocean_view_address, df_ocean_view_price, df_ocean_view_bedroom, df_ocean_view_bathroom], axis=1)\n",
    "print('Total properties acquired: ', len(df_ocean_view))\n",
    "df_ocean_view.head()"
   ]
  },
  {
   "cell_type": "markdown",
   "id": "3aedf35d",
   "metadata": {},
   "source": [
    "### Residential"
   ]
  },
  {
   "cell_type": "code",
   "execution_count": 27,
   "id": "dbfdf2ce",
   "metadata": {},
   "outputs": [
    {
     "name": "stdout",
     "output_type": "stream",
     "text": [
      "Total properties acquired: 77\n",
      "Success scraped the data\n"
     ]
    }
   ],
   "source": [
    "# Retrieve title data\n",
    "df_residential_title = scrape_data('https://www.bukitvista.com/property-type/residential/page', '', 'd-flex align-items-center h-100', 'Title', 'h2', {'class': 'item-title'}, 1, 10)"
   ]
  },
  {
   "cell_type": "code",
   "execution_count": 28,
   "id": "fc3df51f",
   "metadata": {},
   "outputs": [
    {
     "name": "stdout",
     "output_type": "stream",
     "text": [
      "Total properties acquired: 77\n",
      "Success scraped the data\n"
     ]
    }
   ],
   "source": [
    "# Retrieve address data\n",
    "df_residential_address = scrape_data('https://www.bukitvista.com/property-type/residential/page', '', 'd-flex align-items-center h-100', 'Address', 'address', {'class': 'item-address'}, 1, 10)"
   ]
  },
  {
   "cell_type": "code",
   "execution_count": 29,
   "id": "41cf25a8",
   "metadata": {},
   "outputs": [
    {
     "name": "stdout",
     "output_type": "stream",
     "text": [
      "Total properties acquired: 77\n",
      "Success scraped the data\n"
     ]
    }
   ],
   "source": [
    "# Retrieve price data\n",
    "df_residential_price = scrape_data('https://www.bukitvista.com/property-type/residential/page', '', 'd-flex align-items-center h-100', 'Price', 'li', {'class': 'item-price item-price-text'}, 1, 10)"
   ]
  },
  {
   "cell_type": "code",
   "execution_count": 30,
   "id": "95e12c48",
   "metadata": {},
   "outputs": [
    {
     "name": "stdout",
     "output_type": "stream",
     "text": [
      "Total properties acquired: 77\n",
      "Success scraped the data\n"
     ]
    }
   ],
   "source": [
    "# Retrieve bedroom data\n",
    "df_residential_bedroom = scrape_data('https://www.bukitvista.com/property-type/residential/page', '', 'd-flex align-items-center h-100', 'Bedroom', 'span', {'class': 'hz-figure'}, 1, 10)"
   ]
  },
  {
   "cell_type": "code",
   "execution_count": 31,
   "id": "1ba54ddb",
   "metadata": {},
   "outputs": [
    {
     "name": "stdout",
     "output_type": "stream",
     "text": [
      "Total properties acquired: 77\n",
      "Success scraped the data\n"
     ]
    }
   ],
   "source": [
    "# Retrieve bathroom data\n",
    "df_residential_bathroom = scrape_data('https://www.bukitvista.com/property-type/residential/page', '', 'd-flex align-items-center h-100', 'Bathroom', 'span', {'class': 'hz-figure'}, 1, 10)"
   ]
  },
  {
   "cell_type": "code",
   "execution_count": 32,
   "id": "08e2d18b",
   "metadata": {},
   "outputs": [
    {
     "name": "stdout",
     "output_type": "stream",
     "text": [
      "Total properties acquired:  77\n"
     ]
    },
    {
     "data": {
      "text/html": [
       "<div>\n",
       "<style scoped>\n",
       "    .dataframe tbody tr th:only-of-type {\n",
       "        vertical-align: middle;\n",
       "    }\n",
       "\n",
       "    .dataframe tbody tr th {\n",
       "        vertical-align: top;\n",
       "    }\n",
       "\n",
       "    .dataframe thead th {\n",
       "        text-align: right;\n",
       "    }\n",
       "</style>\n",
       "<table border=\"1\" class=\"dataframe\">\n",
       "  <thead>\n",
       "    <tr style=\"text-align: right;\">\n",
       "      <th></th>\n",
       "      <th>Title</th>\n",
       "      <th>Address</th>\n",
       "      <th>Price</th>\n",
       "      <th>Bedroom</th>\n",
       "      <th>Bathroom</th>\n",
       "    </tr>\n",
       "  </thead>\n",
       "  <tbody>\n",
       "    <tr>\n",
       "      <th>0</th>\n",
       "      <td>Luxurious Private Villa with Pool in Idyllic P...</td>\n",
       "      <td>Gg. Meregan &amp;, Jl. Toya Ning II, Ungasan, Sout...</td>\n",
       "      <td>Start from $2,346 USD per Month</td>\n",
       "      <td>2</td>\n",
       "      <td>2</td>\n",
       "    </tr>\n",
       "    <tr>\n",
       "      <th>1</th>\n",
       "      <td>Villa by Rice Fields in Canggu</td>\n",
       "      <td>Pura Wates Canggu No.39, Canggu, Kec. Kuta Uta...</td>\n",
       "      <td>Start from $2,200 USD per Month</td>\n",
       "      <td>2</td>\n",
       "      <td>2</td>\n",
       "    </tr>\n",
       "    <tr>\n",
       "      <th>2</th>\n",
       "      <td>Modern Breezy Homey 2BR Villa with Pool near GWK</td>\n",
       "      <td>Ungasan, Kec. Kuta Sel., Kabupaten Badung, Bal...</td>\n",
       "      <td>Start from $2,400 USD per Month</td>\n",
       "      <td>2</td>\n",
       "      <td>2</td>\n",
       "    </tr>\n",
       "    <tr>\n",
       "      <th>3</th>\n",
       "      <td>Dainty Villa w/ Restful Pool for Group at Ungasan</td>\n",
       "      <td>Kutuh, Kec. Kuta Sel., Kabupaten Badung, Bali ...</td>\n",
       "      <td>Start from $2,050 USD per Month</td>\n",
       "      <td>3</td>\n",
       "      <td>3</td>\n",
       "    </tr>\n",
       "    <tr>\n",
       "      <th>4</th>\n",
       "      <td>Spacious New Tropical Villa w/ GWK View</td>\n",
       "      <td>Kutuh, Kec. Kuta Sel., Kabupaten Badung, Bali ...</td>\n",
       "      <td>Start from $3,200 USD per Month</td>\n",
       "      <td>3</td>\n",
       "      <td>3</td>\n",
       "    </tr>\n",
       "  </tbody>\n",
       "</table>\n",
       "</div>"
      ],
      "text/plain": [
       "                                               Title  \\\n",
       "0  Luxurious Private Villa with Pool in Idyllic P...   \n",
       "1                     Villa by Rice Fields in Canggu   \n",
       "2   Modern Breezy Homey 2BR Villa with Pool near GWK   \n",
       "3  Dainty Villa w/ Restful Pool for Group at Ungasan   \n",
       "4            Spacious New Tropical Villa w/ GWK View   \n",
       "\n",
       "                                             Address  \\\n",
       "0  Gg. Meregan &, Jl. Toya Ning II, Ungasan, Sout...   \n",
       "1  Pura Wates Canggu No.39, Canggu, Kec. Kuta Uta...   \n",
       "2  Ungasan, Kec. Kuta Sel., Kabupaten Badung, Bal...   \n",
       "3  Kutuh, Kec. Kuta Sel., Kabupaten Badung, Bali ...   \n",
       "4  Kutuh, Kec. Kuta Sel., Kabupaten Badung, Bali ...   \n",
       "\n",
       "                             Price Bedroom Bathroom  \n",
       "0  Start from $2,346 USD per Month       2        2  \n",
       "1  Start from $2,200 USD per Month       2        2  \n",
       "2  Start from $2,400 USD per Month       2        2  \n",
       "3  Start from $2,050 USD per Month       3        3  \n",
       "4  Start from $3,200 USD per Month       3        3  "
      ]
     },
     "execution_count": 32,
     "metadata": {},
     "output_type": "execute_result"
    }
   ],
   "source": [
    "df_residential = pd.concat([df_residential_title, df_residential_address, df_residential_price, df_residential_bedroom, df_residential_bathroom], axis=1)\n",
    "print('Total properties acquired: ', len(df_residential))\n",
    "df_residential.head()"
   ]
  },
  {
   "cell_type": "markdown",
   "id": "d6c73452",
   "metadata": {},
   "source": [
    "### Rice Paddy View"
   ]
  },
  {
   "cell_type": "code",
   "execution_count": 33,
   "id": "7cf0770d",
   "metadata": {},
   "outputs": [
    {
     "name": "stdout",
     "output_type": "stream",
     "text": [
      "Total properties acquired: 8\n",
      "Success scraped the data\n"
     ]
    }
   ],
   "source": [
    "# Retrieve title data\n",
    "df_rice_paddy_view_title = scrape_data('https://www.bukitvista.com/property-type/rice-paddy-view/page', '', 'd-flex align-items-center h-100', 'Title', 'h2', {'class': 'item-title'}, 1, 10)"
   ]
  },
  {
   "cell_type": "code",
   "execution_count": 34,
   "id": "91e43e00",
   "metadata": {},
   "outputs": [
    {
     "name": "stdout",
     "output_type": "stream",
     "text": [
      "Total properties acquired: 8\n",
      "Success scraped the data\n"
     ]
    }
   ],
   "source": [
    "# Retrieve address data\n",
    "df_rice_paddy_view_address = scrape_data('https://www.bukitvista.com/property-type/rice-paddy-view/page', '', 'd-flex align-items-center h-100', 'Address', 'address', {'class': 'item-address'}, 1, 10)"
   ]
  },
  {
   "cell_type": "code",
   "execution_count": 35,
   "id": "f55a1cda",
   "metadata": {},
   "outputs": [
    {
     "name": "stdout",
     "output_type": "stream",
     "text": [
      "Total properties acquired: 8\n",
      "Success scraped the data\n"
     ]
    }
   ],
   "source": [
    "# Retrieve price data\n",
    "df_rice_paddy_view_price = scrape_data('https://www.bukitvista.com/property-type/rice-paddy-view/page', '', 'd-flex align-items-center h-100', 'Price', 'li', {'class': 'item-price item-price-text'}, 1, 10)"
   ]
  },
  {
   "cell_type": "code",
   "execution_count": 36,
   "id": "7634c813",
   "metadata": {},
   "outputs": [
    {
     "name": "stdout",
     "output_type": "stream",
     "text": [
      "Total properties acquired: 8\n",
      "Success scraped the data\n"
     ]
    }
   ],
   "source": [
    "# Retrieve bedroom data\n",
    "df_rice_paddy_view_bedroom = scrape_data('https://www.bukitvista.com/property-type/rice-paddy-view/page', '', 'd-flex align-items-center h-100', 'Bedroom', 'span', {'class': 'hz-figure'}, 1, 10)"
   ]
  },
  {
   "cell_type": "code",
   "execution_count": 37,
   "id": "9be029de",
   "metadata": {},
   "outputs": [
    {
     "name": "stdout",
     "output_type": "stream",
     "text": [
      "Total properties acquired: 8\n",
      "Success scraped the data\n"
     ]
    }
   ],
   "source": [
    "# Retrieve bathroom data\n",
    "df_rice_paddy_view_bathroom = scrape_data('https://www.bukitvista.com/property-type/rice-paddy-view/page', '', 'd-flex align-items-center h-100', 'Bathroom', 'span', {'class': 'hz-figure'}, 1, 10)"
   ]
  },
  {
   "cell_type": "code",
   "execution_count": 38,
   "id": "c1ccb165",
   "metadata": {},
   "outputs": [
    {
     "name": "stdout",
     "output_type": "stream",
     "text": [
      "Total properties acquired:  8\n"
     ]
    },
    {
     "data": {
      "text/html": [
       "<div>\n",
       "<style scoped>\n",
       "    .dataframe tbody tr th:only-of-type {\n",
       "        vertical-align: middle;\n",
       "    }\n",
       "\n",
       "    .dataframe tbody tr th {\n",
       "        vertical-align: top;\n",
       "    }\n",
       "\n",
       "    .dataframe thead th {\n",
       "        text-align: right;\n",
       "    }\n",
       "</style>\n",
       "<table border=\"1\" class=\"dataframe\">\n",
       "  <thead>\n",
       "    <tr style=\"text-align: right;\">\n",
       "      <th></th>\n",
       "      <th>Title</th>\n",
       "      <th>Address</th>\n",
       "      <th>Price</th>\n",
       "      <th>Bedroom</th>\n",
       "      <th>Bathroom</th>\n",
       "    </tr>\n",
       "  </thead>\n",
       "  <tbody>\n",
       "    <tr>\n",
       "      <th>0</th>\n",
       "      <td>Villa by Rice Fields in Canggu</td>\n",
       "      <td>Pura Wates Canggu No.39, Canggu, Kec. Kuta Uta...</td>\n",
       "      <td>Start from $2,200 USD per Month</td>\n",
       "      <td>2</td>\n",
       "      <td>2</td>\n",
       "    </tr>\n",
       "    <tr>\n",
       "      <th>1</th>\n",
       "      <td>Da Kelor</td>\n",
       "      <td>C7X4+6V2, Jl. Raya Gelogor, Lodtunduh, Kecamat...</td>\n",
       "      <td>Start from $151 USD for 15 year lease</td>\n",
       "      <td>2</td>\n",
       "      <td>2</td>\n",
       "    </tr>\n",
       "    <tr>\n",
       "      <th>2</th>\n",
       "      <td>Tasteful Villa w/ Nice View of Rice Field in J...</td>\n",
       "      <td>Dobalan, Timbulharjo, Sewon, Bantul 55185</td>\n",
       "      <td>Mulai dari Rp1.201.000 Rupiah per Malam</td>\n",
       "      <td>3</td>\n",
       "      <td>3</td>\n",
       "    </tr>\n",
       "    <tr>\n",
       "      <th>3</th>\n",
       "      <td>Mesmerizing 2BR Kokomo Villa in Umalas with Pool</td>\n",
       "      <td>Jl. Bumbak Umalas, Kerobokan Kelod, Kuta Utara...</td>\n",
       "      <td>Start from $4,750 USD per Month</td>\n",
       "      <td>2</td>\n",
       "      <td>2</td>\n",
       "    </tr>\n",
       "    <tr>\n",
       "      <th>4</th>\n",
       "      <td>Soothing Ubud Villa w/ Wide Appeasing Garden</td>\n",
       "      <td>Jl. Sri Wedari, Ubud, Kabupaten Gianyar, Bali ...</td>\n",
       "      <td>Start from $4,940 USD per Month</td>\n",
       "      <td>4</td>\n",
       "      <td>4</td>\n",
       "    </tr>\n",
       "  </tbody>\n",
       "</table>\n",
       "</div>"
      ],
      "text/plain": [
       "                                               Title  \\\n",
       "0                     Villa by Rice Fields in Canggu   \n",
       "1                                           Da Kelor   \n",
       "2  Tasteful Villa w/ Nice View of Rice Field in J...   \n",
       "3   Mesmerizing 2BR Kokomo Villa in Umalas with Pool   \n",
       "4       Soothing Ubud Villa w/ Wide Appeasing Garden   \n",
       "\n",
       "                                             Address  \\\n",
       "0  Pura Wates Canggu No.39, Canggu, Kec. Kuta Uta...   \n",
       "1  C7X4+6V2, Jl. Raya Gelogor, Lodtunduh, Kecamat...   \n",
       "2          Dobalan, Timbulharjo, Sewon, Bantul 55185   \n",
       "3  Jl. Bumbak Umalas, Kerobokan Kelod, Kuta Utara...   \n",
       "4  Jl. Sri Wedari, Ubud, Kabupaten Gianyar, Bali ...   \n",
       "\n",
       "                                     Price Bedroom Bathroom  \n",
       "0          Start from $2,200 USD per Month       2        2  \n",
       "1    Start from $151 USD for 15 year lease       2        2  \n",
       "2  Mulai dari Rp1.201.000 Rupiah per Malam       3        3  \n",
       "3          Start from $4,750 USD per Month       2        2  \n",
       "4          Start from $4,940 USD per Month       4        4  "
      ]
     },
     "execution_count": 38,
     "metadata": {},
     "output_type": "execute_result"
    }
   ],
   "source": [
    "df_rice_paddy_view = pd.concat([df_rice_paddy_view_title, df_rice_paddy_view_address, df_rice_paddy_view_price, df_rice_paddy_view_bedroom, df_rice_paddy_view_bathroom], axis=1)\n",
    "print('Total properties acquired: ', len(df_rice_paddy_view))\n",
    "df_rice_paddy_view.head()"
   ]
  },
  {
   "cell_type": "markdown",
   "id": "b72436f2",
   "metadata": {},
   "source": [
    "### Concat All Data for Bali Vacation Rentals"
   ]
  },
  {
   "cell_type": "code",
   "execution_count": 39,
   "id": "60974ef5",
   "metadata": {},
   "outputs": [
    {
     "data": {
      "text/html": [
       "<div>\n",
       "<style scoped>\n",
       "    .dataframe tbody tr th:only-of-type {\n",
       "        vertical-align: middle;\n",
       "    }\n",
       "\n",
       "    .dataframe tbody tr th {\n",
       "        vertical-align: top;\n",
       "    }\n",
       "\n",
       "    .dataframe thead th {\n",
       "        text-align: right;\n",
       "    }\n",
       "</style>\n",
       "<table border=\"1\" class=\"dataframe\">\n",
       "  <thead>\n",
       "    <tr style=\"text-align: right;\">\n",
       "      <th></th>\n",
       "      <th>Title</th>\n",
       "      <th>Address</th>\n",
       "      <th>Price</th>\n",
       "      <th>Bedroom</th>\n",
       "      <th>Bathroom</th>\n",
       "    </tr>\n",
       "  </thead>\n",
       "  <tbody>\n",
       "    <tr>\n",
       "      <th>0</th>\n",
       "      <td>Beachfront Bungalow w/ Sunset View</td>\n",
       "      <td>Jl. Ped - Buyuk, Banjar Bodong, Desa Ped, Kec ...</td>\n",
       "      <td>Start from USD $41 per night</td>\n",
       "      <td>1</td>\n",
       "      <td>1</td>\n",
       "    </tr>\n",
       "    <tr>\n",
       "      <th>1</th>\n",
       "      <td>Soothing Sound of the Waves in a Beachfront Cabin</td>\n",
       "      <td>Jalan Raya Ped Banjar Bodong Desa Ped Nusa Pen...</td>\n",
       "      <td>Start from $23 per night</td>\n",
       "      <td>1</td>\n",
       "      <td>1</td>\n",
       "    </tr>\n",
       "    <tr>\n",
       "      <th>2</th>\n",
       "      <td>Nusa Penida New Beachfront Cottage with Cute Pool</td>\n",
       "      <td>Jl. Batumulapan, Batununggul, Kec. Nusa Penida,</td>\n",
       "      <td>Start from $29 USD per night</td>\n",
       "      <td>1</td>\n",
       "      <td>1</td>\n",
       "    </tr>\n",
       "    <tr>\n",
       "      <th>3</th>\n",
       "      <td>Minimalist Room with Superb Ocean View at Bingin</td>\n",
       "      <td>Jl. Pantai Bingin, Pecatu, Kuta Sel., Kabupate...</td>\n",
       "      <td>Start from $1,060 USD per Month</td>\n",
       "      <td>1</td>\n",
       "      <td>1</td>\n",
       "    </tr>\n",
       "    <tr>\n",
       "      <th>4</th>\n",
       "      <td>Bohemian Beachfront Surf Villa by the Bingin B...</td>\n",
       "      <td>Jl. Pantai Bingin, Pecatu, Kec. Kuta Sel., Kab...</td>\n",
       "      <td>Start from $5,590 USD per Month</td>\n",
       "      <td>4</td>\n",
       "      <td>4</td>\n",
       "    </tr>\n",
       "  </tbody>\n",
       "</table>\n",
       "</div>"
      ],
      "text/plain": [
       "                                               Title  \\\n",
       "0                 Beachfront Bungalow w/ Sunset View   \n",
       "1  Soothing Sound of the Waves in a Beachfront Cabin   \n",
       "2  Nusa Penida New Beachfront Cottage with Cute Pool   \n",
       "3   Minimalist Room with Superb Ocean View at Bingin   \n",
       "4  Bohemian Beachfront Surf Villa by the Bingin B...   \n",
       "\n",
       "                                             Address  \\\n",
       "0  Jl. Ped - Buyuk, Banjar Bodong, Desa Ped, Kec ...   \n",
       "1  Jalan Raya Ped Banjar Bodong Desa Ped Nusa Pen...   \n",
       "2    Jl. Batumulapan, Batununggul, Kec. Nusa Penida,   \n",
       "3  Jl. Pantai Bingin, Pecatu, Kuta Sel., Kabupate...   \n",
       "4  Jl. Pantai Bingin, Pecatu, Kec. Kuta Sel., Kab...   \n",
       "\n",
       "                             Price Bedroom Bathroom  \n",
       "0     Start from USD $41 per night       1        1  \n",
       "1         Start from $23 per night       1        1  \n",
       "2     Start from $29 USD per night       1        1  \n",
       "3  Start from $1,060 USD per Month       1        1  \n",
       "4  Start from $5,590 USD per Month       4        4  "
      ]
     },
     "execution_count": 39,
     "metadata": {},
     "output_type": "execute_result"
    }
   ],
   "source": [
    "df_bali = pd.concat([df_beachfront, df_island_life, df_jungle_view, df_ocean_view, df_residential, df_rice_paddy_view], axis=0)\n",
    "df_bali.head()"
   ]
  },
  {
   "cell_type": "markdown",
   "id": "1595f53e",
   "metadata": {},
   "source": [
    "## Yogyakarta Vacation Rentals (https://www.bukitvista.com/villa-jogja)"
   ]
  },
  {
   "cell_type": "code",
   "execution_count": 40,
   "id": "f32aaef3",
   "metadata": {},
   "outputs": [
    {
     "name": "stdout",
     "output_type": "stream",
     "text": [
      "Total properties acquired: 20\n",
      "Success scraped the data\n"
     ]
    }
   ],
   "source": [
    "# Retrieve title data\n",
    "df_yogyakarta_title = scrape_data('https://www.bukitvista.com/villa-jogja/page', '', 'd-flex align-items-center h-100', 'Title', 'h2', {'class': 'item-title'}, 1, 10)"
   ]
  },
  {
   "cell_type": "code",
   "execution_count": 41,
   "id": "a22cdb3d",
   "metadata": {},
   "outputs": [
    {
     "name": "stdout",
     "output_type": "stream",
     "text": [
      "Total properties acquired: 20\n",
      "Success scraped the data\n"
     ]
    }
   ],
   "source": [
    "# Retrieve address data\n",
    "df_yogyakarta_address = scrape_data('https://www.bukitvista.com/villa-jogja/page', 'https://www.bukitvista.com/property/', 'd-flex align-items-center h-100', 'Address', 'h2', {'class': 'item-title'}, 1, 10)"
   ]
  },
  {
   "cell_type": "code",
   "execution_count": 42,
   "id": "6bada2d7",
   "metadata": {},
   "outputs": [
    {
     "name": "stdout",
     "output_type": "stream",
     "text": [
      "Total properties acquired: 20\n",
      "Success scraped the data\n"
     ]
    }
   ],
   "source": [
    "# Retrieve price data\n",
    "df_yogyakarta_price = scrape_data('https://www.bukitvista.com/villa-jogja/page', '', 'd-flex align-items-center h-100', 'Price', 'span', {'class': 'item-price-text'}, 1, 10)"
   ]
  },
  {
   "cell_type": "code",
   "execution_count": 43,
   "id": "17ce438b",
   "metadata": {},
   "outputs": [
    {
     "name": "stdout",
     "output_type": "stream",
     "text": [
      "Total properties acquired: 20\n",
      "Success scraped the data\n"
     ]
    }
   ],
   "source": [
    "# Retrieve bedroom data\n",
    "df_yogyakarta_bedroom = scrape_data('https://www.bukitvista.com/villa-jogja/page', '', 'd-flex align-items-center h-100', 'Bedroom', 'span', {'class': 'hz-figure'}, 1, 10)"
   ]
  },
  {
   "cell_type": "code",
   "execution_count": 44,
   "id": "f404f369",
   "metadata": {},
   "outputs": [
    {
     "name": "stdout",
     "output_type": "stream",
     "text": [
      "Total properties acquired: 20\n",
      "Success scraped the data\n"
     ]
    }
   ],
   "source": [
    "# Retrieve bathroom data\n",
    "df_yogyakarta_bathroom = scrape_data('https://www.bukitvista.com/villa-jogja/page', '', 'd-flex align-items-center h-100', 'Bathroom', 'span', {'class': 'hz-figure'}, 1, 10)"
   ]
  },
  {
   "cell_type": "code",
   "execution_count": 45,
   "id": "c82e824b",
   "metadata": {},
   "outputs": [
    {
     "name": "stdout",
     "output_type": "stream",
     "text": [
      "Total properties acquired:  20\n"
     ]
    },
    {
     "data": {
      "text/html": [
       "<div>\n",
       "<style scoped>\n",
       "    .dataframe tbody tr th:only-of-type {\n",
       "        vertical-align: middle;\n",
       "    }\n",
       "\n",
       "    .dataframe tbody tr th {\n",
       "        vertical-align: top;\n",
       "    }\n",
       "\n",
       "    .dataframe thead th {\n",
       "        text-align: right;\n",
       "    }\n",
       "</style>\n",
       "<table border=\"1\" class=\"dataframe\">\n",
       "  <thead>\n",
       "    <tr style=\"text-align: right;\">\n",
       "      <th></th>\n",
       "      <th>Title</th>\n",
       "      <th>Address</th>\n",
       "      <th>Price</th>\n",
       "      <th>Bedroom</th>\n",
       "      <th>Bathroom</th>\n",
       "    </tr>\n",
       "  </thead>\n",
       "  <tbody>\n",
       "    <tr>\n",
       "      <th>0</th>\n",
       "      <td>Tasteful Villa w/ Nice View of Rice Field in J...</td>\n",
       "      <td>Dobalan, Timbulharjo, Sewon, Bantul 55185</td>\n",
       "      <td>Mulai dari Rp1.201.000 Rupiah per Malam</td>\n",
       "      <td>3</td>\n",
       "      <td>3</td>\n",
       "    </tr>\n",
       "    <tr>\n",
       "      <th>1</th>\n",
       "      <td>Town House in a Quiet Residence near Ambarrukmo</td>\n",
       "      <td>Perum Jogja Town House 3, Kab. Bantul, Daerah ...</td>\n",
       "      <td>Mulai dari Rp1.020.000 Rupiah per Malam</td>\n",
       "      <td>3</td>\n",
       "      <td>3</td>\n",
       "    </tr>\n",
       "    <tr>\n",
       "      <th>2</th>\n",
       "      <td>Spacious 5BR Vacation Villa for Big Group in J...</td>\n",
       "      <td>Juwangen, Purwomartani, Kec. Kalasan, Kabupate...</td>\n",
       "      <td>Mulai dari Rp2.160.000 Rupiah per Malam</td>\n",
       "      <td>5</td>\n",
       "      <td>5</td>\n",
       "    </tr>\n",
       "    <tr>\n",
       "      <th>3</th>\n",
       "      <td>3BR Javanese Traditional Relaxing Villa with Pool</td>\n",
       "      <td>Sinduadi, Kec. Mlati, Kabupaten Sleman, Daerah...</td>\n",
       "      <td>Mulai dari Rp1.930.000 Rupiah per Malam</td>\n",
       "      <td>3</td>\n",
       "      <td>3</td>\n",
       "    </tr>\n",
       "    <tr>\n",
       "      <th>4</th>\n",
       "      <td>Jogja Historical Home in Keraton Heritage Area</td>\n",
       "      <td>Kecamatan Kraton, Kota Yogyakarta, Daerah Isti...</td>\n",
       "      <td>Mulai dari Rp1.735.000 Rupiah per Malam</td>\n",
       "      <td>3</td>\n",
       "      <td>3</td>\n",
       "    </tr>\n",
       "  </tbody>\n",
       "</table>\n",
       "</div>"
      ],
      "text/plain": [
       "                                               Title  \\\n",
       "0  Tasteful Villa w/ Nice View of Rice Field in J...   \n",
       "1    Town House in a Quiet Residence near Ambarrukmo   \n",
       "2  Spacious 5BR Vacation Villa for Big Group in J...   \n",
       "3  3BR Javanese Traditional Relaxing Villa with Pool   \n",
       "4     Jogja Historical Home in Keraton Heritage Area   \n",
       "\n",
       "                                             Address  \\\n",
       "0          Dobalan, Timbulharjo, Sewon, Bantul 55185   \n",
       "1  Perum Jogja Town House 3, Kab. Bantul, Daerah ...   \n",
       "2  Juwangen, Purwomartani, Kec. Kalasan, Kabupate...   \n",
       "3  Sinduadi, Kec. Mlati, Kabupaten Sleman, Daerah...   \n",
       "4  Kecamatan Kraton, Kota Yogyakarta, Daerah Isti...   \n",
       "\n",
       "                                     Price Bedroom Bathroom  \n",
       "0  Mulai dari Rp1.201.000 Rupiah per Malam       3        3  \n",
       "1  Mulai dari Rp1.020.000 Rupiah per Malam       3        3  \n",
       "2  Mulai dari Rp2.160.000 Rupiah per Malam       5        5  \n",
       "3  Mulai dari Rp1.930.000 Rupiah per Malam       3        3  \n",
       "4  Mulai dari Rp1.735.000 Rupiah per Malam       3        3  "
      ]
     },
     "execution_count": 45,
     "metadata": {},
     "output_type": "execute_result"
    }
   ],
   "source": [
    "df_yogyakarta = pd.concat([df_yogyakarta_title, df_yogyakarta_address, df_yogyakarta_price, df_yogyakarta_bedroom, df_yogyakarta_bathroom], axis=1)\n",
    "print('Total properties acquired: ', len(df_yogyakarta))\n",
    "df_yogyakarta.head()"
   ]
  },
  {
   "cell_type": "markdown",
   "id": "0ed49c46",
   "metadata": {},
   "source": [
    "## Nusa Penida Vacation Rentals (https://www.bukitvista.com/nusa-penida-vacation-rentals)"
   ]
  },
  {
   "cell_type": "code",
   "execution_count": 46,
   "id": "1b2b324d",
   "metadata": {},
   "outputs": [
    {
     "name": "stdout",
     "output_type": "stream",
     "text": [
      "Total properties acquired: 20\n",
      "Success scraped the data\n"
     ]
    }
   ],
   "source": [
    "# Retrieve title data\n",
    "df_nusa_penida_title = scrape_data('https://www.bukitvista.com/nusa-penida-vacation-rentals/page', '', 'd-flex align-items-center h-100', 'Title', 'h2', {'class': 'item-title'}, 1, 10)"
   ]
  },
  {
   "cell_type": "code",
   "execution_count": 47,
   "id": "c3dd583a",
   "metadata": {},
   "outputs": [
    {
     "name": "stdout",
     "output_type": "stream",
     "text": [
      "Total properties acquired: 20\n",
      "Success scraped the data\n"
     ]
    }
   ],
   "source": [
    "# Retrieve address data\n",
    "df_nusa_penida_address = scrape_data('https://www.bukitvista.com/nusa-penida-vacation-rentals/page', 'https://www.bukitvista.com/property/', 'd-flex align-items-center h-100', 'Address', 'h2', {'class': 'item-title'}, 1, 10)"
   ]
  },
  {
   "cell_type": "code",
   "execution_count": 48,
   "id": "1138fb0d",
   "metadata": {},
   "outputs": [
    {
     "name": "stdout",
     "output_type": "stream",
     "text": [
      "Total properties acquired: 20\n",
      "Success scraped the data\n"
     ]
    }
   ],
   "source": [
    "# Retrieve price data\n",
    "df_nusa_penida_price = scrape_data('https://www.bukitvista.com/nusa-penida-vacation-rentals/page', '', 'd-flex align-items-center h-100', 'Price', 'span', {'class': 'item-price-text'}, 1, 10)"
   ]
  },
  {
   "cell_type": "code",
   "execution_count": 49,
   "id": "8003d4f5",
   "metadata": {},
   "outputs": [
    {
     "name": "stdout",
     "output_type": "stream",
     "text": [
      "Total properties acquired: 20\n",
      "Success scraped the data\n"
     ]
    }
   ],
   "source": [
    "# Retrieve bedroom data\n",
    "df_nusa_penida_bedroom = scrape_data('https://www.bukitvista.com/nusa-penida-vacation-rentals/page', '', 'd-flex align-items-center h-100', 'Bedroom', 'span', {'class': 'hz-figure'}, 1, 10)"
   ]
  },
  {
   "cell_type": "code",
   "execution_count": 50,
   "id": "247b2e6d",
   "metadata": {},
   "outputs": [
    {
     "name": "stdout",
     "output_type": "stream",
     "text": [
      "Total properties acquired: 20\n",
      "Success scraped the data\n"
     ]
    }
   ],
   "source": [
    "# Retrieve bathroom data\n",
    "df_nusa_penida_bathroom = scrape_data('https://www.bukitvista.com/nusa-penida-vacation-rentals/page', '', 'd-flex align-items-center h-100', 'Bathroom', 'span', {'class': 'hz-figure'}, 1, 10)"
   ]
  },
  {
   "cell_type": "code",
   "execution_count": 51,
   "id": "ad1d191a",
   "metadata": {},
   "outputs": [
    {
     "name": "stdout",
     "output_type": "stream",
     "text": [
      "Total properties acquired:  20\n"
     ]
    },
    {
     "data": {
      "text/html": [
       "<div>\n",
       "<style scoped>\n",
       "    .dataframe tbody tr th:only-of-type {\n",
       "        vertical-align: middle;\n",
       "    }\n",
       "\n",
       "    .dataframe tbody tr th {\n",
       "        vertical-align: top;\n",
       "    }\n",
       "\n",
       "    .dataframe thead th {\n",
       "        text-align: right;\n",
       "    }\n",
       "</style>\n",
       "<table border=\"1\" class=\"dataframe\">\n",
       "  <thead>\n",
       "    <tr style=\"text-align: right;\">\n",
       "      <th></th>\n",
       "      <th>Title</th>\n",
       "      <th>Address</th>\n",
       "      <th>Price</th>\n",
       "      <th>Bedroom</th>\n",
       "      <th>Bathroom</th>\n",
       "    </tr>\n",
       "  </thead>\n",
       "  <tbody>\n",
       "    <tr>\n",
       "      <th>0</th>\n",
       "      <td>Breathtaking Ocean View Cabin w/ Wi-Fi &amp; Break...</td>\n",
       "      <td>Banjar Kutapang, Desa Batununggul, Nusapenida,...</td>\n",
       "      <td>Start from $13 per night</td>\n",
       "      <td>1</td>\n",
       "      <td>1</td>\n",
       "    </tr>\n",
       "    <tr>\n",
       "      <th>1</th>\n",
       "      <td>Stylish Rustic Cabin in Penida near Seaside Cafe</td>\n",
       "      <td>Jl. Ped - Buyuk, Ped, Nusapenida, Kabupaten Kl...</td>\n",
       "      <td>Start from $24 per night</td>\n",
       "      <td>1</td>\n",
       "      <td>1</td>\n",
       "    </tr>\n",
       "    <tr>\n",
       "      <th>2</th>\n",
       "      <td>Beachfront Bungalow w/ Sunset View</td>\n",
       "      <td>Jl. Ped - Buyuk, Banjar Bodong, Desa Ped, Kec ...</td>\n",
       "      <td>Start from USD $41 per night</td>\n",
       "      <td>1</td>\n",
       "      <td>1</td>\n",
       "    </tr>\n",
       "    <tr>\n",
       "      <th>3</th>\n",
       "      <td>Soothing Sound of the Waves in a Beachfront Cabin</td>\n",
       "      <td>Jalan Raya Ped Banjar Bodong Desa Ped Nusa Pen...</td>\n",
       "      <td>Start from $23 per night</td>\n",
       "      <td>1</td>\n",
       "      <td>1</td>\n",
       "    </tr>\n",
       "    <tr>\n",
       "      <th>4</th>\n",
       "      <td>Penida Cabin for Diving &amp; Snorkeling Enthusiasts</td>\n",
       "      <td>Batununggul, Nusapenida, Kabupaten Klungkung, ...</td>\n",
       "      <td>Start from $18 per night</td>\n",
       "      <td>1</td>\n",
       "      <td>1</td>\n",
       "    </tr>\n",
       "  </tbody>\n",
       "</table>\n",
       "</div>"
      ],
      "text/plain": [
       "                                               Title  \\\n",
       "0  Breathtaking Ocean View Cabin w/ Wi-Fi & Break...   \n",
       "1   Stylish Rustic Cabin in Penida near Seaside Cafe   \n",
       "2                 Beachfront Bungalow w/ Sunset View   \n",
       "3  Soothing Sound of the Waves in a Beachfront Cabin   \n",
       "4   Penida Cabin for Diving & Snorkeling Enthusiasts   \n",
       "\n",
       "                                             Address  \\\n",
       "0  Banjar Kutapang, Desa Batununggul, Nusapenida,...   \n",
       "1  Jl. Ped - Buyuk, Ped, Nusapenida, Kabupaten Kl...   \n",
       "2  Jl. Ped - Buyuk, Banjar Bodong, Desa Ped, Kec ...   \n",
       "3  Jalan Raya Ped Banjar Bodong Desa Ped Nusa Pen...   \n",
       "4  Batununggul, Nusapenida, Kabupaten Klungkung, ...   \n",
       "\n",
       "                          Price Bedroom Bathroom  \n",
       "0      Start from $13 per night       1        1  \n",
       "1      Start from $24 per night       1        1  \n",
       "2  Start from USD $41 per night       1        1  \n",
       "3      Start from $23 per night       1        1  \n",
       "4      Start from $18 per night       1        1  "
      ]
     },
     "execution_count": 51,
     "metadata": {},
     "output_type": "execute_result"
    }
   ],
   "source": [
    "df_nusa_penida = pd.concat([df_nusa_penida_title, df_nusa_penida_address, df_nusa_penida_price, df_nusa_penida_bedroom, df_nusa_penida_bathroom], axis=1)\n",
    "print('Total properties acquired: ', len(df_nusa_penida))\n",
    "df_nusa_penida.head()"
   ]
  },
  {
   "cell_type": "markdown",
   "id": "f92da67f",
   "metadata": {},
   "source": [
    "## Bali Long Term Rentals (https://www.bukitvista.com/bali-long-term-rentals)"
   ]
  },
  {
   "cell_type": "code",
   "execution_count": 52,
   "id": "a87cea4a",
   "metadata": {},
   "outputs": [
    {
     "name": "stdout",
     "output_type": "stream",
     "text": [
      "Total properties acquired: 68\n",
      "Success scraped the data\n"
     ]
    }
   ],
   "source": [
    "# Retrieve title data\n",
    "df_bali_long_term_title = scrape_data('https://www.bukitvista.com/bali-long-term-rentals/page', '', 'd-flex align-items-center h-100', 'Title', 'h2', {'class': 'item-title'}, 1, 10)"
   ]
  },
  {
   "cell_type": "code",
   "execution_count": 53,
   "id": "f27d2585",
   "metadata": {},
   "outputs": [
    {
     "name": "stdout",
     "output_type": "stream",
     "text": [
      "Total properties acquired: 68\n",
      "Success scraped the data\n"
     ]
    }
   ],
   "source": [
    "# Retrieve address data\n",
    "df_bali_long_term_address = scrape_data('https://www.bukitvista.com/bali-long-term-rentals/page', 'https://www.bukitvista.com/property', 'd-flex align-items-center h-100', 'Address', 'h2', {'class': 'item-title'}, 1, 10)"
   ]
  },
  {
   "cell_type": "code",
   "execution_count": 54,
   "id": "458bdb82",
   "metadata": {},
   "outputs": [
    {
     "name": "stdout",
     "output_type": "stream",
     "text": [
      "Total properties acquired: 68\n",
      "Success scraped the data\n"
     ]
    }
   ],
   "source": [
    "# Retrieve price data\n",
    "df_bali_long_term_price = scrape_data('https://www.bukitvista.com/bali-long-term-rentals/page', '', 'd-flex align-items-center h-100', 'Price', 'li', {'class': 'item-price'}, 1, 10)"
   ]
  },
  {
   "cell_type": "code",
   "execution_count": 55,
   "id": "459d6ead",
   "metadata": {},
   "outputs": [
    {
     "name": "stdout",
     "output_type": "stream",
     "text": [
      "Total properties acquired: 68\n",
      "Success scraped the data\n"
     ]
    }
   ],
   "source": [
    "# Retrieve bedroom data\n",
    "df_bali_long_term_bedroom = scrape_data('https://www.bukitvista.com/bali-long-term-rentals/page', '', 'd-flex align-items-center h-100', 'Bedroom', 'span', {'class': 'hz-figure'}, 1, 10)"
   ]
  },
  {
   "cell_type": "code",
   "execution_count": 56,
   "id": "422781c8",
   "metadata": {},
   "outputs": [
    {
     "name": "stdout",
     "output_type": "stream",
     "text": [
      "Total properties acquired: 68\n",
      "Success scraped the data\n"
     ]
    }
   ],
   "source": [
    "# Retrieve bathroom data\n",
    "df_bali_long_term_bathroom = scrape_data('https://www.bukitvista.com/bali-long-term-rentals/page', '', 'd-flex align-items-center h-100', 'Bathroom', 'span', {'class': 'hz-figure'}, 1, 10)"
   ]
  },
  {
   "cell_type": "code",
   "execution_count": 57,
   "id": "889c3e60",
   "metadata": {},
   "outputs": [
    {
     "name": "stdout",
     "output_type": "stream",
     "text": [
      "Total properties acquired:  68\n"
     ]
    },
    {
     "data": {
      "text/html": [
       "<div>\n",
       "<style scoped>\n",
       "    .dataframe tbody tr th:only-of-type {\n",
       "        vertical-align: middle;\n",
       "    }\n",
       "\n",
       "    .dataframe tbody tr th {\n",
       "        vertical-align: top;\n",
       "    }\n",
       "\n",
       "    .dataframe thead th {\n",
       "        text-align: right;\n",
       "    }\n",
       "</style>\n",
       "<table border=\"1\" class=\"dataframe\">\n",
       "  <thead>\n",
       "    <tr style=\"text-align: right;\">\n",
       "      <th></th>\n",
       "      <th>Title</th>\n",
       "      <th>Address</th>\n",
       "      <th>Price</th>\n",
       "      <th>Bedroom</th>\n",
       "      <th>Bathroom</th>\n",
       "    </tr>\n",
       "  </thead>\n",
       "  <tbody>\n",
       "    <tr>\n",
       "      <th>0</th>\n",
       "      <td>Spacious New Tropical Villa w/ GWK View</td>\n",
       "      <td>Kutuh, Kec. Kuta Sel., Kabupaten Badung, Bali ...</td>\n",
       "      <td>Start from $3,200 USD per Month</td>\n",
       "      <td>3</td>\n",
       "      <td>3</td>\n",
       "    </tr>\n",
       "    <tr>\n",
       "      <th>1</th>\n",
       "      <td>Mesmerizing 2BR Kokomo Villa in Umalas with Pool</td>\n",
       "      <td>Jl. Bumbak Umalas, Kerobokan Kelod, Kuta Utara...</td>\n",
       "      <td>Start from $4,750 USD per Month</td>\n",
       "      <td>2</td>\n",
       "      <td>2</td>\n",
       "    </tr>\n",
       "    <tr>\n",
       "      <th>2</th>\n",
       "      <td>Stunning Ocean View Nusa Dua Villa + Infinity ...</td>\n",
       "      <td>Jl. Raya Nusa Dua Selatan, Sawangan, Nusa Dua,...</td>\n",
       "      <td>Start from $13,160 USD per Month</td>\n",
       "      <td>3</td>\n",
       "      <td>3</td>\n",
       "    </tr>\n",
       "    <tr>\n",
       "      <th>3</th>\n",
       "      <td>Luxurious Private Villa with Pool in Idyllic P...</td>\n",
       "      <td>Gg. Meregan &amp;, Jl. Toya Ning II, Ungasan, Sout...</td>\n",
       "      <td>Start from $2,346 USD per Month</td>\n",
       "      <td>2</td>\n",
       "      <td>2</td>\n",
       "    </tr>\n",
       "    <tr>\n",
       "      <th>4</th>\n",
       "      <td>Villa by Rice Fields in Canggu</td>\n",
       "      <td>Pura Wates Canggu No.39, Canggu, Kec. Kuta Uta...</td>\n",
       "      <td>Start from $2,200 USD per Month</td>\n",
       "      <td>2</td>\n",
       "      <td>2</td>\n",
       "    </tr>\n",
       "  </tbody>\n",
       "</table>\n",
       "</div>"
      ],
      "text/plain": [
       "                                               Title  \\\n",
       "0            Spacious New Tropical Villa w/ GWK View   \n",
       "1   Mesmerizing 2BR Kokomo Villa in Umalas with Pool   \n",
       "2  Stunning Ocean View Nusa Dua Villa + Infinity ...   \n",
       "3  Luxurious Private Villa with Pool in Idyllic P...   \n",
       "4                     Villa by Rice Fields in Canggu   \n",
       "\n",
       "                                             Address  \\\n",
       "0  Kutuh, Kec. Kuta Sel., Kabupaten Badung, Bali ...   \n",
       "1  Jl. Bumbak Umalas, Kerobokan Kelod, Kuta Utara...   \n",
       "2  Jl. Raya Nusa Dua Selatan, Sawangan, Nusa Dua,...   \n",
       "3  Gg. Meregan &, Jl. Toya Ning II, Ungasan, Sout...   \n",
       "4  Pura Wates Canggu No.39, Canggu, Kec. Kuta Uta...   \n",
       "\n",
       "                              Price Bedroom Bathroom  \n",
       "0   Start from $3,200 USD per Month       3        3  \n",
       "1   Start from $4,750 USD per Month       2        2  \n",
       "2  Start from $13,160 USD per Month       3        3  \n",
       "3   Start from $2,346 USD per Month       2        2  \n",
       "4   Start from $2,200 USD per Month       2        2  "
      ]
     },
     "execution_count": 57,
     "metadata": {},
     "output_type": "execute_result"
    }
   ],
   "source": [
    "df_bali_long_term = pd.concat([df_bali_long_term_title, df_bali_long_term_address, df_bali_long_term_price, df_bali_long_term_bedroom, df_bali_long_term_bathroom], axis=1)\n",
    "print('Total properties acquired: ', len(df_bali_long_term))\n",
    "df_bali_long_term.head()"
   ]
  },
  {
   "cell_type": "markdown",
   "id": "df1f0a67",
   "metadata": {},
   "source": [
    "# Concat All Scraped Data"
   ]
  },
  {
   "cell_type": "code",
   "execution_count": 58,
   "id": "752478ba",
   "metadata": {},
   "outputs": [
    {
     "data": {
      "text/html": [
       "<div>\n",
       "<style scoped>\n",
       "    .dataframe tbody tr th:only-of-type {\n",
       "        vertical-align: middle;\n",
       "    }\n",
       "\n",
       "    .dataframe tbody tr th {\n",
       "        vertical-align: top;\n",
       "    }\n",
       "\n",
       "    .dataframe thead th {\n",
       "        text-align: right;\n",
       "    }\n",
       "</style>\n",
       "<table border=\"1\" class=\"dataframe\">\n",
       "  <thead>\n",
       "    <tr style=\"text-align: right;\">\n",
       "      <th></th>\n",
       "      <th>Title</th>\n",
       "      <th>Address</th>\n",
       "      <th>Price</th>\n",
       "      <th>Bedroom</th>\n",
       "      <th>Bathroom</th>\n",
       "    </tr>\n",
       "  </thead>\n",
       "  <tbody>\n",
       "    <tr>\n",
       "      <th>0</th>\n",
       "      <td>Beachfront Bungalow w/ Sunset View</td>\n",
       "      <td>Jl. Ped - Buyuk, Banjar Bodong, Desa Ped, Kec ...</td>\n",
       "      <td>Start from USD $41 per night</td>\n",
       "      <td>1</td>\n",
       "      <td>1</td>\n",
       "    </tr>\n",
       "    <tr>\n",
       "      <th>1</th>\n",
       "      <td>Soothing Sound of the Waves in a Beachfront Cabin</td>\n",
       "      <td>Jalan Raya Ped Banjar Bodong Desa Ped Nusa Pen...</td>\n",
       "      <td>Start from $23 per night</td>\n",
       "      <td>1</td>\n",
       "      <td>1</td>\n",
       "    </tr>\n",
       "    <tr>\n",
       "      <th>2</th>\n",
       "      <td>Nusa Penida New Beachfront Cottage with Cute Pool</td>\n",
       "      <td>Jl. Batumulapan, Batununggul, Kec. Nusa Penida,</td>\n",
       "      <td>Start from $29 USD per night</td>\n",
       "      <td>1</td>\n",
       "      <td>1</td>\n",
       "    </tr>\n",
       "    <tr>\n",
       "      <th>3</th>\n",
       "      <td>Minimalist Room with Superb Ocean View at Bingin</td>\n",
       "      <td>Jl. Pantai Bingin, Pecatu, Kuta Sel., Kabupate...</td>\n",
       "      <td>Start from $1,060 USD per Month</td>\n",
       "      <td>1</td>\n",
       "      <td>1</td>\n",
       "    </tr>\n",
       "    <tr>\n",
       "      <th>4</th>\n",
       "      <td>Bohemian Beachfront Surf Villa by the Bingin B...</td>\n",
       "      <td>Jl. Pantai Bingin, Pecatu, Kec. Kuta Sel., Kab...</td>\n",
       "      <td>Start from $5,590 USD per Month</td>\n",
       "      <td>4</td>\n",
       "      <td>4</td>\n",
       "    </tr>\n",
       "  </tbody>\n",
       "</table>\n",
       "</div>"
      ],
      "text/plain": [
       "                                               Title  \\\n",
       "0                 Beachfront Bungalow w/ Sunset View   \n",
       "1  Soothing Sound of the Waves in a Beachfront Cabin   \n",
       "2  Nusa Penida New Beachfront Cottage with Cute Pool   \n",
       "3   Minimalist Room with Superb Ocean View at Bingin   \n",
       "4  Bohemian Beachfront Surf Villa by the Bingin B...   \n",
       "\n",
       "                                             Address  \\\n",
       "0  Jl. Ped - Buyuk, Banjar Bodong, Desa Ped, Kec ...   \n",
       "1  Jalan Raya Ped Banjar Bodong Desa Ped Nusa Pen...   \n",
       "2    Jl. Batumulapan, Batununggul, Kec. Nusa Penida,   \n",
       "3  Jl. Pantai Bingin, Pecatu, Kuta Sel., Kabupate...   \n",
       "4  Jl. Pantai Bingin, Pecatu, Kec. Kuta Sel., Kab...   \n",
       "\n",
       "                             Price Bedroom Bathroom  \n",
       "0     Start from USD $41 per night       1        1  \n",
       "1         Start from $23 per night       1        1  \n",
       "2     Start from $29 USD per night       1        1  \n",
       "3  Start from $1,060 USD per Month       1        1  \n",
       "4  Start from $5,590 USD per Month       4        4  "
      ]
     },
     "execution_count": 58,
     "metadata": {},
     "output_type": "execute_result"
    }
   ],
   "source": [
    "df_bukit_vista = pd.concat([df_bali, df_yogyakarta, df_nusa_penida, df_bali_long_term], axis=0)\n",
    "df_bukit_vista.head()"
   ]
  },
  {
   "cell_type": "code",
   "execution_count": 59,
   "id": "39c2587a",
   "metadata": {},
   "outputs": [
    {
     "name": "stdout",
     "output_type": "stream",
     "text": [
      "<class 'pandas.core.frame.DataFrame'>\n",
      "Int64Index: 212 entries, 0 to 67\n",
      "Data columns (total 5 columns):\n",
      " #   Column    Non-Null Count  Dtype \n",
      "---  ------    --------------  ----- \n",
      " 0   Title     212 non-null    object\n",
      " 1   Address   212 non-null    object\n",
      " 2   Price     212 non-null    object\n",
      " 3   Bedroom   212 non-null    object\n",
      " 4   Bathroom  212 non-null    object\n",
      "dtypes: object(5)\n",
      "memory usage: 9.9+ KB\n"
     ]
    }
   ],
   "source": [
    "df_bukit_vista.info()"
   ]
  },
  {
   "cell_type": "markdown",
   "id": "d452e8ac",
   "metadata": {},
   "source": [
    "## Code Effectively Function: Call in Another File in Jupyter Notebook"
   ]
  },
  {
   "cell_type": "code",
   "execution_count": 60,
   "id": "13e1469e",
   "metadata": {},
   "outputs": [
    {
     "name": "stdout",
     "output_type": "stream",
     "text": [
      "Total properties acquired: 77\n",
      "Success scraped the data\n"
     ]
    },
    {
     "data": {
      "text/html": [
       "<div>\n",
       "<style scoped>\n",
       "    .dataframe tbody tr th:only-of-type {\n",
       "        vertical-align: middle;\n",
       "    }\n",
       "\n",
       "    .dataframe tbody tr th {\n",
       "        vertical-align: top;\n",
       "    }\n",
       "\n",
       "    .dataframe thead th {\n",
       "        text-align: right;\n",
       "    }\n",
       "</style>\n",
       "<table border=\"1\" class=\"dataframe\">\n",
       "  <thead>\n",
       "    <tr style=\"text-align: right;\">\n",
       "      <th></th>\n",
       "      <th>Price</th>\n",
       "    </tr>\n",
       "  </thead>\n",
       "  <tbody>\n",
       "    <tr>\n",
       "      <th>0</th>\n",
       "      <td>Start from $2,346 USD per Month</td>\n",
       "    </tr>\n",
       "    <tr>\n",
       "      <th>1</th>\n",
       "      <td>Start from $2,200 USD per Month</td>\n",
       "    </tr>\n",
       "    <tr>\n",
       "      <th>2</th>\n",
       "      <td>Start from $2,400 USD per Month</td>\n",
       "    </tr>\n",
       "    <tr>\n",
       "      <th>3</th>\n",
       "      <td>Start from $2,050 USD per Month</td>\n",
       "    </tr>\n",
       "    <tr>\n",
       "      <th>4</th>\n",
       "      <td>Start from $3,200 USD per Month</td>\n",
       "    </tr>\n",
       "  </tbody>\n",
       "</table>\n",
       "</div>"
      ],
      "text/plain": [
       "                             Price\n",
       "0  Start from $2,346 USD per Month\n",
       "1  Start from $2,200 USD per Month\n",
       "2  Start from $2,400 USD per Month\n",
       "3  Start from $2,050 USD per Month\n",
       "4  Start from $3,200 USD per Month"
      ]
     },
     "execution_count": 60,
     "metadata": {},
     "output_type": "execute_result"
    }
   ],
   "source": [
    "import importlib\n",
    "\n",
    "# Import file ex_scrape_bv.py\n",
    "ex_scrape_bv = importlib.import_module('ex_scrape_bv')\n",
    "\n",
    "# Reload the ex_scrape_bv module to update changes if any\n",
    "importlib.reload(ex_scrape_bv)\n",
    "\n",
    "# Call function scrape_data\n",
    "df_residential_price = scrape_data('https://www.bukitvista.com/property-type/residential/page', '', 'd-flex align-items-center h-100', 'Price', 'li', {'class': 'item-price item-price-text'}, 1, 10)\n",
    "df_residential_price.head()"
   ]
  },
  {
   "cell_type": "code",
   "execution_count": 61,
   "id": "fe16a67b",
   "metadata": {},
   "outputs": [
    {
     "name": "stdout",
     "output_type": "stream",
     "text": [
      "Total properties acquired: 77\n",
      "Success scraped the data\n"
     ]
    },
    {
     "data": {
      "text/html": [
       "<div>\n",
       "<style scoped>\n",
       "    .dataframe tbody tr th:only-of-type {\n",
       "        vertical-align: middle;\n",
       "    }\n",
       "\n",
       "    .dataframe tbody tr th {\n",
       "        vertical-align: top;\n",
       "    }\n",
       "\n",
       "    .dataframe thead th {\n",
       "        text-align: right;\n",
       "    }\n",
       "</style>\n",
       "<table border=\"1\" class=\"dataframe\">\n",
       "  <thead>\n",
       "    <tr style=\"text-align: right;\">\n",
       "      <th></th>\n",
       "      <th>Price</th>\n",
       "    </tr>\n",
       "  </thead>\n",
       "  <tbody>\n",
       "    <tr>\n",
       "      <th>0</th>\n",
       "      <td>Start from $2,346 USD per Month</td>\n",
       "    </tr>\n",
       "    <tr>\n",
       "      <th>1</th>\n",
       "      <td>Start from $2,200 USD per Month</td>\n",
       "    </tr>\n",
       "    <tr>\n",
       "      <th>2</th>\n",
       "      <td>Start from $2,400 USD per Month</td>\n",
       "    </tr>\n",
       "    <tr>\n",
       "      <th>3</th>\n",
       "      <td>Start from $2,050 USD per Month</td>\n",
       "    </tr>\n",
       "    <tr>\n",
       "      <th>4</th>\n",
       "      <td>Start from $3,200 USD per Month</td>\n",
       "    </tr>\n",
       "  </tbody>\n",
       "</table>\n",
       "</div>"
      ],
      "text/plain": [
       "                             Price\n",
       "0  Start from $2,346 USD per Month\n",
       "1  Start from $2,200 USD per Month\n",
       "2  Start from $2,400 USD per Month\n",
       "3  Start from $2,050 USD per Month\n",
       "4  Start from $3,200 USD per Month"
      ]
     },
     "execution_count": 61,
     "metadata": {},
     "output_type": "execute_result"
    }
   ],
   "source": [
    "import ex_scrape_bv\n",
    "df_residential_price = ex_scrape_bv.scrape_data('https://www.bukitvista.com/property-type/residential/page', '', 'd-flex align-items-center h-100', 'Price', 'li', {'class': 'item-price item-price-text'}, 1, 10)\n",
    "df_residential_price.head()"
   ]
  },
  {
   "cell_type": "markdown",
   "id": "e7c73192",
   "metadata": {},
   "source": [
    "# Data Preprocessing"
   ]
  },
  {
   "cell_type": "code",
   "execution_count": 62,
   "id": "65747463",
   "metadata": {},
   "outputs": [
    {
     "data": {
      "text/plain": [
       "array(['Start from USD $41 per night', 'Start from $23 per night',\n",
       "       'Start from $29 USD per night', 'Start from $1,060 USD per Month',\n",
       "       'Start from $5,590 USD per Month',\n",
       "       'Start from $1,580 USD per Month', 'Start from $990 USD per Month',\n",
       "       'Start from $26 USD', 'Start from $1,380 per Month',\n",
       "       'Start from $1,980 USD per Month',\n",
       "       'Start from $5,260 USD per Month', 'Start from $730 USD per Month',\n",
       "       'Start from $690 USD per Month', 'Start from $890 USD per Month',\n",
       "       'Start from $4,750 USD per Month',\n",
       "       'Start from $13,160 USD per Month',\n",
       "       'Start from $2,346 USD per Month',\n",
       "       'Start from $2,200 USD per Month',\n",
       "       'Start from $2,400 USD per Month',\n",
       "       'Start from $2,050 USD per Month',\n",
       "       'Start from $3,200 USD per Month',\n",
       "       'Start from $151 USD for 15 year lease',\n",
       "       'Mulai dari Rp1.201.000 Rupiah per Malam',\n",
       "       'Mulai dari Rp1.020.000 Rupiah per Malam',\n",
       "       'Mulai dari Rp410.500 USD per Malam',\n",
       "       'Mulai dari Rp2.160.000 Rupiah per Malam',\n",
       "       'Mulai dari Rp3.315.000 Rupiah per Malam',\n",
       "       'Mulai dari Rp1.930.000 Rupiah per Malam',\n",
       "       'Mulai dari Rp1.750.000 Rupiah per Malam',\n",
       "       'Mulai dari Rp1.735.000 Rupiah per Malam',\n",
       "       'Mulai dari Rp1.445.000 Rupiah per Malam',\n",
       "       'Start from 16,335 USD per year', 'Start from $13 per night',\n",
       "       'Start from $24 per night',\n",
       "       'Mulai dari Rp2.740.000 Rupiah per Malam',\n",
       "       'Mulai dari Rp3.270.000 Rupiah per Malam',\n",
       "       'Start from $18 per night', 'Start from $19 USD per night',\n",
       "       'Start from $49 USD per night', 'Start from $30 USD per night',\n",
       "       'Mulai dari Rp490.000 Rupiah per Malam',\n",
       "       'Mulai dari R2.175.000 Rupiah per Malam',\n",
       "       'Mulai dari Rp1.231.000 Rupiah per Malam',\n",
       "       'Start from $920 USD per Month', 'Start from $790 USD per Month',\n",
       "       'Start from $1,090 USD per Month',\n",
       "       'Start from $4,940 USD per Month',\n",
       "       'Start from $1,290 USD per Month',\n",
       "       'Start from $1,780 USD per Month', 'Start from $100 USD',\n",
       "       'Mulai dari Rp2.280.000 Rupiah per Malam',\n",
       "       'Start from $1,970 USD per Month', 'Start from $40 USD',\n",
       "       'Start from $600 USD per Month', 'Start from $4,600 USD per Month',\n",
       "       'Start from $4,920 USD per Month',\n",
       "       'Start from $1,380 USD per Month',\n",
       "       'Start from $2,570 USD per Month', '',\n",
       "       'Start from $2,960 USD per Month',\n",
       "       'Start from $1,220 USD per Month',\n",
       "       'Start from $3,350 USD per Month',\n",
       "       'Start from $3,290 USD per Month', 'Start from $820 USD per Month',\n",
       "       'Start from $4,930 USD per Month',\n",
       "       'Start from $1,390 USD per Month',\n",
       "       'Start from $2,160 USD per Month'], dtype=object)"
      ]
     },
     "execution_count": 62,
     "metadata": {},
     "output_type": "execute_result"
    }
   ],
   "source": [
    "# See Price column to clean\n",
    "df_bukit_vista['Price'].unique()"
   ]
  },
  {
   "cell_type": "code",
   "execution_count": 63,
   "id": "01203fcb",
   "metadata": {},
   "outputs": [
    {
     "data": {
      "text/plain": [
       "array(['Jl. Ped - Buyuk, Banjar Bodong, Desa Ped, Kec Nusa Penida, Kabupaten Klungkung',\n",
       "       'Jalan Raya Ped Banjar Bodong Desa Ped Nusa Penida, Ped, Nusa Penida, Ped, Nusapenida, Kabupaten Klungkung, Bali 80771',\n",
       "       'Jl. Batumulapan, Batununggul, Kec. Nusa Penida,',\n",
       "       'Jl. Pantai Bingin, Pecatu, Kuta Sel., Kabupaten Badung, Bali 80361, Indonesia',\n",
       "       'Jl. Pantai Bingin, Pecatu, Kec. Kuta Sel., Kabupaten Badung, Bali 80361',\n",
       "       'Jl. Pantai Bingin, Pecatu, Kec. Kuta Sel., Kabupaten Badung, Bali, Indonesia',\n",
       "       'Pecatu, Kec. Kuta Sel., Kabupaten Badung, Bali 80361, Indonesia',\n",
       "       'Banjar Bodong, Desa Ped, Kec Nusa Penida, Kabupaten Klungkung',\n",
       "       'Banjar Dukuh, Kenderan, Kec. Tegallalang, Kabupaten Gianyar, Bali 80561, Indonesia',\n",
       "       'Pecatu, Kec. Kuta Sel., Kabupaten Badung, Bali',\n",
       "       'Jl. Gn. Sari, Kecamatan Ubud, Kabupaten Gianyar, Bali, Indonesia',\n",
       "       'Jalan Tanah Ayu, Sibang Gede, Abiansemal, Kabupaten Badung, Bali',\n",
       "       'Jalan Raya Uluwatu, Pecatu, South Kuta, Badung Regency, Bali 80361',\n",
       "       'Jl. Tirta Tawar, Petulu, Kecamatan Ubud, Kabupaten Gianyar, Bali 80571',\n",
       "       'Peliatan, Ubud, Gianyar, Bali. 80571',\n",
       "       'Jl. Bumbak Umalas, Kerobokan Kelod, Kuta Utara, Badung Regency, Bali',\n",
       "       'Jl. Raya Nusa Dua Selatan, Sawangan, Nusa Dua, Kabupaten Badung, Bali 80363',\n",
       "       'Gg. Meregan &, Jl. Toya Ning II, Ungasan, South Kuta, Badung Regency, Bali',\n",
       "       'Pura Wates Canggu No.39, Canggu, Kec. Kuta Utara, Kabupaten Badung, Bali 80351',\n",
       "       'Ungasan, Kec. Kuta Sel., Kabupaten Badung, Bali 80361',\n",
       "       'Kutuh, Kec. Kuta Sel., Kabupaten Badung, Bali 80361',\n",
       "       'C7X4+6V2, Jl. Raya Gelogor, Lodtunduh, Kecamatan Ubud, Kabupaten Gianyar, Bali 80571',\n",
       "       'Dobalan, Timbulharjo, Sewon, Bantul 55185',\n",
       "       'Perum Jogja Town House 3, Kab. Bantul, Daerah Istimewa Yogyakarta 55198',\n",
       "       'Ngupasan, Kec. Gondomanan, Kota Yogyakarta, Daerah Istimewa Yogyakarta 55122',\n",
       "       'Juwangen, Purwomartani, Kec. Kalasan, Kabupaten Sleman, Daerah Istimewa Yogyakarta 55571',\n",
       "       'Panembahan, Kraton, Kota Yogyakarta, Daerah Istimewa Yogyakarta 55131',\n",
       "       'Sinduadi, Kec. Mlati, Kabupaten Sleman, Daerah Istimewa Yogyakarta, 55284',\n",
       "       'gupasan, Kec. Gondomanan, Kota Yogyakarta, Daerah Istimewa Yogyakarta 55122',\n",
       "       'Kecamatan Kraton, Kota Yogyakarta, Daerah Istimewa Yogyakarta 55131',\n",
       "       'Tamanan, Kec. Banguntapan, Kabupaten Bantul, Daerah Istimewa Yogyakarta 55191',\n",
       "       '8°49\\'51.7\"S 115°09\\'03.0\"E',\n",
       "       'Banjar Kutapang, Desa Batununggul, Nusapenida, Kabupaten Klungkung, Bali 80771',\n",
       "       'Jl. Ped - Buyuk, Ped, Nusapenida, Kabupaten Klungkung, Bali 80771',\n",
       "       'Caturtunggal, Kec. Depok, Kabupaten Sleman, Daerah Istimewa Yogyakarta 55222',\n",
       "       'Sinduharjo, Ngaglik, DI Sleman, Yogyakarta',\n",
       "       'Batununggul, Nusapenida, Kabupaten Klungkung, Bali 80771',\n",
       "       'Suana, Nusapenida, Kabupaten Klungkung, Bali 80771',\n",
       "       'Batununggul, Nusapenida, Klungkung Regency, Bali 80771',\n",
       "       'Jl. Raya Toya Pakeh - Ped, Ped, Nusapenida, Kabupaten Klungkung, Bali 80771',\n",
       "       'Tamantirto, Kasihan, Bantul, Daerah Istimewa Yogyakarta 55184',\n",
       "       'Pakualaman, Kota Yogyakarta, Daerah Istimewa Yogyakarta 55166',\n",
       "       'Sanggrahan, Maguwoharjo, Kec. Depok, Kabupaten Sleman, Daerah Istimewa Yogyakarta 55281',\n",
       "       'Jl. Raya Pantai Berawa, Tibubeneng, Kuta Utara, Kabupaten Badung, Bali 80361, Indonesia',\n",
       "       'Jl. Bangbang Metuug, Pecatu, Kec. Kuta Sel., Kabupaten Badung, Bali 80361, Indonesia',\n",
       "       'Jl. Tanah Barak, Canggu, Kec. Kuta Utara, Kabupaten Badung, Bali 80351, Indonesia',\n",
       "       'Jl. Gn. Tengger, Pecatu, Kec. Kuta Sel., Kabupaten Badung, Bali 80361, Indonesia',\n",
       "       'Jl. Sri Wedari, Ubud, Kabupaten Gianyar, Bali 80571, Indonesia',\n",
       "       'Jl. Pantai Pererenan, Pererenan, Mengwi, Kabupaten Badung, Bali 80351',\n",
       "       'Canggu, North Kuta, Badung Regency, Bali, Indonesia',\n",
       "       'Kauman, Yogyakarta',\n",
       "       'Kec. Ngaglik, Kota Yogyakarta, Daerah Istimewa Yogyakarta 55581',\n",
       "       'Jl. Raya Kendran, Kenderan, Kec. Tegallalang, Kabupaten Gianyar, Bali 80561',\n",
       "       'Jl. Pantai Suluban, Pecatu, Kec. Kuta Sel., Kabupaten Badung, Bali 80361, Indonesia',\n",
       "       'Pecatu, South Kuta, Badung Regency, Bali 80361, Indonesia',\n",
       "       'Ngentak, Sinduharjo, Kec. Ngaglik, Kabupaten Sleman, Daerah Istimewa Yogyakarta 55581, Indonesia',\n",
       "       'Baciro, Kec. Gondokusuman, Kota Yogyakarta, Daerah Istimewa Yogyakarta, Indonesia',\n",
       "       'Jalan Anggrek, Jimbaran, Kec. Kuta Sel., Kabupaten Badung, Bali 80361',\n",
       "       'Ungasan, Kec. Kuta Sel., Kabupaten Badung, Bali 80361, Indonesia',\n",
       "       'Jl. Raya Kayu Tulang, Canggu, Kec. Kuta Utara, Badung, Bali',\n",
       "       'Jalan Gunung Tengger, Pecatu, Kabupaten Badung, Bali',\n",
       "       'Jl. Raya Semat Gang Strawberry, Canggu, Kuta Utara, Kabupaten Badung, Bali, Indonesia',\n",
       "       'Jl. Pantai Pererenan Gg. Bima, Pererenan, Mengwi, Badung Regency, Bali 80351',\n",
       "       'South Kuta, Bali, Indonesia',\n",
       "       'Ungasan, South Kuta, Badung Regency, Bali, Indonesia',\n",
       "       'Kecamatan Kuta Utara, Bali, Indonesia',\n",
       "       'Canggu, Kec. Kuta Utara, Kabupaten Badung, Bali 80351, Indonesia',\n",
       "       'Jalan Tanah Barak, Canggu, Badung Regency, Bali, Indonesia',\n",
       "       'Alang Alang Residence Jimbaran, Jimbaran (Bali), Indonesia, 80361',\n",
       "       'Ungasan 80361 Indonesia',\n",
       "       'Canggu, Kec. Kuta Utara, Kabupaten Badung, Bali 80351',\n",
       "       'Jalan Pantai Batu Bolong, Canggu, Kabupaten Badung, Bali',\n",
       "       'Jln Labuhan Sait Br. Dinas Kulat, Pecatu Uluwatu Uluwatu, Pecatu, South Kuta, Badung Regency, Bali 80361',\n",
       "       'Jl. Labuansait, Pecatu, Kuta Sel., Kabupaten Badung, Bali 80361',\n",
       "       'Condongcatur, Kec. Depok, Kabupaten Sleman, Daerah Istimewa Yogyakarta, 55581',\n",
       "       'Nusa Dua, Kuta Selatan, Badung, Bali 80361'], dtype=object)"
      ]
     },
     "execution_count": 63,
     "metadata": {},
     "output_type": "execute_result"
    }
   ],
   "source": [
    "# See Address column to clean\n",
    "df_bukit_vista['Address'].unique()"
   ]
  },
  {
   "cell_type": "code",
   "execution_count": 64,
   "id": "9751eb2a",
   "metadata": {},
   "outputs": [],
   "source": [
    "#!pip install forex-python"
   ]
  },
  {
   "cell_type": "code",
   "execution_count": 68,
   "id": "4663fb35",
   "metadata": {},
   "outputs": [],
   "source": [
    "from forex_python.converter import CurrencyRates"
   ]
  },
  {
   "cell_type": "code",
   "execution_count": 69,
   "id": "d79d472f",
   "metadata": {},
   "outputs": [],
   "source": [
    "def clean_data(df):\n",
    "    # Split the address column into new columns\n",
    "    split_values = df['Address'].str.split(',', expand=True)\n",
    "\n",
    "    # Check whether the number of columns matches the key\n",
    "    if len(split_values.columns) == 3:\n",
    "        df[['Village', 'Subdistrict', 'Regency']] = split_values\n",
    "    else:\n",
    "        # Adjust the number of columns with the key\n",
    "        df[['Village', 'Subdistrict', 'Regency']] = split_values[[0, 1, 2]]\n",
    "\n",
    "    # Clear whitespace around values\n",
    "    df['Village'] = df['Village'].str.strip()\n",
    "    df['Subdistrict'] = df['Subdistrict'].str.strip()\n",
    "    df['Regency'] = df['Regency'].str.strip()\n",
    "\n",
    "    # Determine the value of the subdistrict and regency based on keywords\n",
    "    df['Subdistrict'] = df['Subdistrict'].apply(lambda x: x.lower() if isinstance(x, str) else '')\n",
    "    df['Regency'] = df['Regency'].apply(lambda x: x.lower() if isinstance(x, str) else '')\n",
    "\n",
    "    # Return the address field if subdistrict and regency are empty\n",
    "    df['Address'] = df.apply(lambda row: row['Address'] if (row['Subdistrict'] == '' and row['Regency'] == '') else row['Address'], axis=1)\n",
    "\n",
    "    # Clear whitespace around values\n",
    "    df['Village'] = df['Village'].str.strip()\n",
    "    df['Subdistrict'] = df['Subdistrict'].str.strip()\n",
    "    df['Regency'] = df['Regency'].str.strip()\n",
    "\n",
    "    # Replace blank values with None\n",
    "    df['Village'] = df['Village'].apply(lambda x: None if x == '' else x)\n",
    "    df['Subdistrict'] = df['Subdistrict'].apply(lambda x: None if x == '' else x)\n",
    "    df['Regency'] = df['Regency'].apply(lambda x: None if x == '' else x)\n",
    "\n",
    "    # Fill in the blank values with the values from the address fields\n",
    "    df['Village'] = df['Village'].fillna(df['Address'])\n",
    "    df['Subdistrict'] = df['Subdistrict'].fillna(df['Address'])\n",
    "    df['Regency'] = df['Regency'].fillna(df['Address'])\n",
    "    \n",
    "    # Make the Price column just numbers by removing letters\n",
    "    df.loc[:, 'Price'] = df['Price'].str.replace('Mulai dari', '', regex=True)\n",
    "    df.loc[:, 'Price'] = df['Price'].str.replace('Start from', '', regex=True)\n",
    "    df['Price'] = df['Price'].replace('', np.nan)\n",
    "    \n",
    "    # Add a Rent Type column based on length of rent (per night, per month, per year/or more)\n",
    "    df['Rent Type'] = df['Price'].apply(lambda x: '2' if ('year' in str(x).lower() or 'tahun' in str(x).lower()) else '1' if ('month' in str(x).lower() or 'bulan' in str(x).lower()) else '0')\n",
    "\n",
    "    # Make the Price column just numbers by removing letters\n",
    "    df.loc[:, 'Price'] = df['Price'].str.replace('per night', '', regex=True)\n",
    "    df.loc[:, 'Price'] = df['Price'].str.replace('USD per night', '', regex=True)\n",
    "    df.loc[:, 'Price'] = df['Price'].str.replace('USD per Month', '', regex=True)\n",
    "    df.loc[:, 'Price'] = df['Price'].str.replace('USD for 15 year lease', '', regex=True)\n",
    "    df.loc[:, 'Price'] = df['Price'].str.replace('Rupiah per Malam', '', regex=True)\n",
    "    df.loc[:, 'Price'] = df['Price'].str.replace('USD per Malam', '', regex=True)\n",
    "    df.loc[:, 'Price'] = df['Price'].str.replace('per Month', '', regex=True)\n",
    "    df.loc[:, 'Price'] = df['Price'].str.replace('per year', '', regex=True)\n",
    "    df.loc[:, 'Price'] = df['Price'].str.replace('.', '', regex=True)\n",
    "    df.loc[:, 'Price'] = df['Price'].str.replace('USD', '', regex=True)\n",
    "    \n",
    "    # Make the Price column just numbers by removing letters\n",
    "    def process_price(price):\n",
    "        if not any(symbol in price for symbol in ['$', 'Rp', 'R']):\n",
    "            price = '$' + price\n",
    "        return price\n",
    "    df['Price'] = df['Price'].astype(str).apply(process_price)\n",
    "    \n",
    "    # Make the Price column just numbers by removing letters\n",
    "    df.loc[:, 'Price'] = df['Price'].str.replace('Rp', '', regex=True)\n",
    "    df.loc[:, 'Price'] = df['Price'].str.replace('R', '', regex=True)\n",
    "    \n",
    "    c = CurrencyRates()\n",
    "    def convert_to_usd(price):\n",
    "        if '$' not in price:\n",
    "            amount = float(price.replace(',', ''))\n",
    "            usd_amount = c.convert('IDR', 'USD', amount)\n",
    "            return '${:,.2f}'.format(usd_amount)\n",
    "        return price\n",
    "    df['Price'] = df['Price'].astype(str).apply(convert_to_usd)\n",
    "    \n",
    "    # Make the Price column just numbers (float) by removing letters\n",
    "    df.loc[:, 'Price'] = df['Price'].str.replace('$', '', regex=True)\n",
    "    df.loc[:, 'Price'] = df['Price'].str.replace(',', '', regex=True)\n",
    "    df['Price'] = df['Price'].apply(lambda x: float(x) if x != '' else None)\n",
    "    df = df.rename(columns={'Price': 'Price in USD'})\n",
    "    \n",
    "    # Change column from object to float\n",
    "    df['Bedroom'] = df['Bedroom'].apply(lambda x: float(x) if x != '' else None)\n",
    "    df['Bathroom'] = df_bukit_vista['Bathroom'].apply(lambda x: float(x) if x != '' else None)\n",
    "    df['Rent Type'] = df['Rent Type'].apply(lambda x: float(x) if x != '' else None)\n",
    "\n",
    "    return df"
   ]
  },
  {
   "cell_type": "code",
   "execution_count": 66,
   "id": "26f29a56",
   "metadata": {},
   "outputs": [
    {
     "data": {
      "text/html": [
       "<div>\n",
       "<style scoped>\n",
       "    .dataframe tbody tr th:only-of-type {\n",
       "        vertical-align: middle;\n",
       "    }\n",
       "\n",
       "    .dataframe tbody tr th {\n",
       "        vertical-align: top;\n",
       "    }\n",
       "\n",
       "    .dataframe thead th {\n",
       "        text-align: right;\n",
       "    }\n",
       "</style>\n",
       "<table border=\"1\" class=\"dataframe\">\n",
       "  <thead>\n",
       "    <tr style=\"text-align: right;\">\n",
       "      <th></th>\n",
       "      <th>Title</th>\n",
       "      <th>Address</th>\n",
       "      <th>Price</th>\n",
       "      <th>Bedroom</th>\n",
       "      <th>Bathroom</th>\n",
       "    </tr>\n",
       "  </thead>\n",
       "  <tbody>\n",
       "    <tr>\n",
       "      <th>0</th>\n",
       "      <td>Beachfront Bungalow w/ Sunset View</td>\n",
       "      <td>Jl. Ped - Buyuk, Banjar Bodong, Desa Ped, Kec ...</td>\n",
       "      <td>Start from USD $41 per night</td>\n",
       "      <td>1</td>\n",
       "      <td>1</td>\n",
       "    </tr>\n",
       "    <tr>\n",
       "      <th>1</th>\n",
       "      <td>Soothing Sound of the Waves in a Beachfront Cabin</td>\n",
       "      <td>Jalan Raya Ped Banjar Bodong Desa Ped Nusa Pen...</td>\n",
       "      <td>Start from $23 per night</td>\n",
       "      <td>1</td>\n",
       "      <td>1</td>\n",
       "    </tr>\n",
       "    <tr>\n",
       "      <th>2</th>\n",
       "      <td>Nusa Penida New Beachfront Cottage with Cute Pool</td>\n",
       "      <td>Jl. Batumulapan, Batununggul, Kec. Nusa Penida,</td>\n",
       "      <td>Start from $29 USD per night</td>\n",
       "      <td>1</td>\n",
       "      <td>1</td>\n",
       "    </tr>\n",
       "    <tr>\n",
       "      <th>3</th>\n",
       "      <td>Minimalist Room with Superb Ocean View at Bingin</td>\n",
       "      <td>Jl. Pantai Bingin, Pecatu, Kuta Sel., Kabupate...</td>\n",
       "      <td>Start from $1,060 USD per Month</td>\n",
       "      <td>1</td>\n",
       "      <td>1</td>\n",
       "    </tr>\n",
       "    <tr>\n",
       "      <th>4</th>\n",
       "      <td>Bohemian Beachfront Surf Villa by the Bingin B...</td>\n",
       "      <td>Jl. Pantai Bingin, Pecatu, Kec. Kuta Sel., Kab...</td>\n",
       "      <td>Start from $5,590 USD per Month</td>\n",
       "      <td>4</td>\n",
       "      <td>4</td>\n",
       "    </tr>\n",
       "  </tbody>\n",
       "</table>\n",
       "</div>"
      ],
      "text/plain": [
       "                                               Title  \\\n",
       "0                 Beachfront Bungalow w/ Sunset View   \n",
       "1  Soothing Sound of the Waves in a Beachfront Cabin   \n",
       "2  Nusa Penida New Beachfront Cottage with Cute Pool   \n",
       "3   Minimalist Room with Superb Ocean View at Bingin   \n",
       "4  Bohemian Beachfront Surf Villa by the Bingin B...   \n",
       "\n",
       "                                             Address  \\\n",
       "0  Jl. Ped - Buyuk, Banjar Bodong, Desa Ped, Kec ...   \n",
       "1  Jalan Raya Ped Banjar Bodong Desa Ped Nusa Pen...   \n",
       "2    Jl. Batumulapan, Batununggul, Kec. Nusa Penida,   \n",
       "3  Jl. Pantai Bingin, Pecatu, Kuta Sel., Kabupate...   \n",
       "4  Jl. Pantai Bingin, Pecatu, Kec. Kuta Sel., Kab...   \n",
       "\n",
       "                             Price Bedroom Bathroom  \n",
       "0     Start from USD $41 per night       1        1  \n",
       "1         Start from $23 per night       1        1  \n",
       "2     Start from $29 USD per night       1        1  \n",
       "3  Start from $1,060 USD per Month       1        1  \n",
       "4  Start from $5,590 USD per Month       4        4  "
      ]
     },
     "execution_count": 66,
     "metadata": {},
     "output_type": "execute_result"
    }
   ],
   "source": [
    "df = df_bukit_vista.copy()\n",
    "df.head()"
   ]
  },
  {
   "cell_type": "code",
   "execution_count": 70,
   "id": "9ad25d46",
   "metadata": {},
   "outputs": [
    {
     "data": {
      "text/html": [
       "<div>\n",
       "<style scoped>\n",
       "    .dataframe tbody tr th:only-of-type {\n",
       "        vertical-align: middle;\n",
       "    }\n",
       "\n",
       "    .dataframe tbody tr th {\n",
       "        vertical-align: top;\n",
       "    }\n",
       "\n",
       "    .dataframe thead th {\n",
       "        text-align: right;\n",
       "    }\n",
       "</style>\n",
       "<table border=\"1\" class=\"dataframe\">\n",
       "  <thead>\n",
       "    <tr style=\"text-align: right;\">\n",
       "      <th></th>\n",
       "      <th>Title</th>\n",
       "      <th>Address</th>\n",
       "      <th>Price in USD</th>\n",
       "      <th>Bedroom</th>\n",
       "      <th>Bathroom</th>\n",
       "      <th>Village</th>\n",
       "      <th>Subdistrict</th>\n",
       "      <th>Regency</th>\n",
       "      <th>Rent Type</th>\n",
       "    </tr>\n",
       "  </thead>\n",
       "  <tbody>\n",
       "    <tr>\n",
       "      <th>0</th>\n",
       "      <td>Beachfront Bungalow w/ Sunset View</td>\n",
       "      <td>Jl. Ped - Buyuk, Banjar Bodong, Desa Ped, Kec ...</td>\n",
       "      <td>41.0</td>\n",
       "      <td>1.0</td>\n",
       "      <td>1.0</td>\n",
       "      <td>Jl. Ped - Buyuk</td>\n",
       "      <td>banjar bodong</td>\n",
       "      <td>desa ped</td>\n",
       "      <td>0.0</td>\n",
       "    </tr>\n",
       "    <tr>\n",
       "      <th>1</th>\n",
       "      <td>Soothing Sound of the Waves in a Beachfront Cabin</td>\n",
       "      <td>Jalan Raya Ped Banjar Bodong Desa Ped Nusa Pen...</td>\n",
       "      <td>23.0</td>\n",
       "      <td>1.0</td>\n",
       "      <td>1.0</td>\n",
       "      <td>Jalan Raya Ped Banjar Bodong Desa Ped Nusa Penida</td>\n",
       "      <td>ped</td>\n",
       "      <td>nusa penida</td>\n",
       "      <td>0.0</td>\n",
       "    </tr>\n",
       "    <tr>\n",
       "      <th>2</th>\n",
       "      <td>Nusa Penida New Beachfront Cottage with Cute Pool</td>\n",
       "      <td>Jl. Batumulapan, Batununggul, Kec. Nusa Penida,</td>\n",
       "      <td>29.0</td>\n",
       "      <td>1.0</td>\n",
       "      <td>1.0</td>\n",
       "      <td>Jl. Batumulapan</td>\n",
       "      <td>batununggul</td>\n",
       "      <td>kec. nusa penida</td>\n",
       "      <td>0.0</td>\n",
       "    </tr>\n",
       "    <tr>\n",
       "      <th>3</th>\n",
       "      <td>Minimalist Room with Superb Ocean View at Bingin</td>\n",
       "      <td>Jl. Pantai Bingin, Pecatu, Kuta Sel., Kabupate...</td>\n",
       "      <td>1060.0</td>\n",
       "      <td>1.0</td>\n",
       "      <td>1.0</td>\n",
       "      <td>Jl. Pantai Bingin</td>\n",
       "      <td>pecatu</td>\n",
       "      <td>kuta sel.</td>\n",
       "      <td>0.0</td>\n",
       "    </tr>\n",
       "    <tr>\n",
       "      <th>4</th>\n",
       "      <td>Bohemian Beachfront Surf Villa by the Bingin B...</td>\n",
       "      <td>Jl. Pantai Bingin, Pecatu, Kec. Kuta Sel., Kab...</td>\n",
       "      <td>5590.0</td>\n",
       "      <td>4.0</td>\n",
       "      <td>4.0</td>\n",
       "      <td>Jl. Pantai Bingin</td>\n",
       "      <td>pecatu</td>\n",
       "      <td>kec. kuta sel.</td>\n",
       "      <td>0.0</td>\n",
       "    </tr>\n",
       "  </tbody>\n",
       "</table>\n",
       "</div>"
      ],
      "text/plain": [
       "                                               Title  \\\n",
       "0                 Beachfront Bungalow w/ Sunset View   \n",
       "1  Soothing Sound of the Waves in a Beachfront Cabin   \n",
       "2  Nusa Penida New Beachfront Cottage with Cute Pool   \n",
       "3   Minimalist Room with Superb Ocean View at Bingin   \n",
       "4  Bohemian Beachfront Surf Villa by the Bingin B...   \n",
       "\n",
       "                                             Address  Price in USD  Bedroom  \\\n",
       "0  Jl. Ped - Buyuk, Banjar Bodong, Desa Ped, Kec ...          41.0      1.0   \n",
       "1  Jalan Raya Ped Banjar Bodong Desa Ped Nusa Pen...          23.0      1.0   \n",
       "2    Jl. Batumulapan, Batununggul, Kec. Nusa Penida,          29.0      1.0   \n",
       "3  Jl. Pantai Bingin, Pecatu, Kuta Sel., Kabupate...        1060.0      1.0   \n",
       "4  Jl. Pantai Bingin, Pecatu, Kec. Kuta Sel., Kab...        5590.0      4.0   \n",
       "\n",
       "   Bathroom                                            Village    Subdistrict  \\\n",
       "0       1.0                                    Jl. Ped - Buyuk  banjar bodong   \n",
       "1       1.0  Jalan Raya Ped Banjar Bodong Desa Ped Nusa Penida            ped   \n",
       "2       1.0                                    Jl. Batumulapan    batununggul   \n",
       "3       1.0                                  Jl. Pantai Bingin         pecatu   \n",
       "4       4.0                                  Jl. Pantai Bingin         pecatu   \n",
       "\n",
       "            Regency  Rent Type  \n",
       "0          desa ped        0.0  \n",
       "1       nusa penida        0.0  \n",
       "2  kec. nusa penida        0.0  \n",
       "3         kuta sel.        0.0  \n",
       "4    kec. kuta sel.        0.0  "
      ]
     },
     "execution_count": 70,
     "metadata": {},
     "output_type": "execute_result"
    }
   ],
   "source": [
    "df = clean_data(df)\n",
    "df.head()"
   ]
  },
  {
   "cell_type": "code",
   "execution_count": 71,
   "id": "2afca92b",
   "metadata": {},
   "outputs": [
    {
     "name": "stdout",
     "output_type": "stream",
     "text": [
      "<class 'pandas.core.frame.DataFrame'>\n",
      "Int64Index: 212 entries, 0 to 67\n",
      "Data columns (total 9 columns):\n",
      " #   Column        Non-Null Count  Dtype  \n",
      "---  ------        --------------  -----  \n",
      " 0   Title         212 non-null    object \n",
      " 1   Address       212 non-null    object \n",
      " 2   Price in USD  211 non-null    float64\n",
      " 3   Bedroom       212 non-null    float64\n",
      " 4   Bathroom      212 non-null    float64\n",
      " 5   Village       212 non-null    object \n",
      " 6   Subdistrict   212 non-null    object \n",
      " 7   Regency       212 non-null    object \n",
      " 8   Rent Type     212 non-null    float64\n",
      "dtypes: float64(4), object(5)\n",
      "memory usage: 16.6+ KB\n"
     ]
    }
   ],
   "source": [
    "df.info()"
   ]
  },
  {
   "cell_type": "markdown",
   "id": "a9e4ecc0",
   "metadata": {},
   "source": [
    "# Deployment on Flask"
   ]
  },
  {
   "cell_type": "markdown",
   "id": "391c93b4",
   "metadata": {},
   "source": [
    "## Install Flask in Linux-Ubuntu\n",
    "pip install flask in terminal\n",
    "\n",
    "## Deploy Process\n",
    "1. To open terminal, open project folder in document, then shift + right click\n",
    "2. Write `python app_scrape_bv.py`, enter\n",
    "3. Open http://127.0.0.1:5000/scraped_data (@app.route('/scraped_data')) on web browser \n",
    "4. Waiting for loading the web browser\n",
    "5. Get the result, then save to json file -> `bukitvista_scraped_booking_data.json`"
   ]
  },
  {
   "cell_type": "code",
   "execution_count": 72,
   "id": "94afe59f",
   "metadata": {},
   "outputs": [],
   "source": [
    "import json\n",
    "import pandas as pd\n",
    "\n",
    "with open('bukitvista_scraped_booking_data.json') as json_file:\n",
    "    data = json.load(json_file)"
   ]
  },
  {
   "cell_type": "code",
   "execution_count": 73,
   "id": "3cbb86e6",
   "metadata": {},
   "outputs": [
    {
     "data": {
      "text/plain": [
       "{'Address': ['Jl. Ped - Buyuk, Banjar Bodong, Desa Ped, Kec Nusa Penida, Kabupaten Klungkung',\n",
       "  'Jalan Raya Ped Banjar Bodong Desa Ped Nusa Penida, Ped, Nusa Penida, Ped, Nusapenida, Kabupaten Klungkung, Bali 80771',\n",
       "  'Jl. Batumulapan, Batununggul, Kec. Nusa Penida,',\n",
       "  'Jl. Pantai Bingin, Pecatu, Kuta Sel., Kabupaten Badung, Bali 80361, Indonesia',\n",
       "  'Jl. Pantai Bingin, Pecatu, Kec. Kuta Sel., Kabupaten Badung, Bali 80361',\n",
       "  'Jl. Pantai Bingin, Pecatu, Kec. Kuta Sel., Kabupaten Badung, Bali, Indonesia',\n",
       "  'Pecatu, Kec. Kuta Sel., Kabupaten Badung, Bali 80361, Indonesia',\n",
       "  'Banjar Bodong, Desa Ped, Kec Nusa Penida, Kabupaten Klungkung',\n",
       "  'Banjar Dukuh, Kenderan, Kec. Tegallalang, Kabupaten Gianyar, Bali 80561, Indonesia',\n",
       "  'Pecatu, Kec. Kuta Sel., Kabupaten Badung, Bali',\n",
       "  'Jl. Gn. Sari, Kecamatan Ubud, Kabupaten Gianyar, Bali, Indonesia',\n",
       "  'Banjar Dukuh, Kenderan, Kec. Tegallalang, Kabupaten Gianyar, Bali 80561, Indonesia',\n",
       "  'Jalan Tanah Ayu, Sibang Gede, Abiansemal, Kabupaten Badung, Bali',\n",
       "  'Jalan Raya Uluwatu, Pecatu, South Kuta, Badung Regency, Bali 80361',\n",
       "  'Jl. Tirta Tawar, Petulu, Kecamatan Ubud, Kabupaten Gianyar, Bali 80571',\n",
       "  'Peliatan, Ubud, Gianyar, Bali. 80571',\n",
       "  'Jl. Bumbak Umalas, Kerobokan Kelod, Kuta Utara, Badung Regency, Bali',\n",
       "  'Jl. Raya Nusa Dua Selatan, Sawangan, Nusa Dua, Kabupaten Badung, Bali 80363',\n",
       "  'Pecatu, Kec. Kuta Sel., Kabupaten Badung, Bali 80361, Indonesia',\n",
       "  'Gg. Meregan &, Jl. Toya Ning II, Ungasan, South Kuta, Badung Regency, Bali',\n",
       "  'Pura Wates Canggu No.39, Canggu, Kec. Kuta Utara, Kabupaten Badung, Bali 80351',\n",
       "  'Ungasan, Kec. Kuta Sel., Kabupaten Badung, Bali 80361',\n",
       "  'Kutuh, Kec. Kuta Sel., Kabupaten Badung, Bali 80361',\n",
       "  'Kutuh, Kec. Kuta Sel., Kabupaten Badung, Bali 80361',\n",
       "  'C7X4+6V2, Jl. Raya Gelogor, Lodtunduh, Kecamatan Ubud, Kabupaten Gianyar, Bali 80571',\n",
       "  'Dobalan, Timbulharjo, Sewon, Bantul 55185',\n",
       "  'Perum Jogja Town House 3, Kab. Bantul, Daerah Istimewa Yogyakarta 55198',\n",
       "  'Ngupasan, Kec. Gondomanan, Kota Yogyakarta, Daerah Istimewa Yogyakarta 55122',\n",
       "  'Juwangen, Purwomartani, Kec. Kalasan, Kabupaten Sleman, Daerah Istimewa Yogyakarta 55571',\n",
       "  'Panembahan, Kraton, Kota Yogyakarta, Daerah Istimewa Yogyakarta 55131',\n",
       "  'Sinduadi, Kec. Mlati, Kabupaten Sleman, Daerah Istimewa Yogyakarta, 55284',\n",
       "  'gupasan, Kec. Gondomanan, Kota Yogyakarta, Daerah Istimewa Yogyakarta 55122',\n",
       "  'Kecamatan Kraton, Kota Yogyakarta, Daerah Istimewa Yogyakarta 55131',\n",
       "  'Tamanan, Kec. Banguntapan, Kabupaten Bantul, Daerah Istimewa Yogyakarta 55191',\n",
       "  '8°49\\'51.7\"S 115°09\\'03.0\"E',\n",
       "  'Banjar Kutapang, Desa Batununggul, Nusapenida, Kabupaten Klungkung, Bali 80771',\n",
       "  'Jl. Ped - Buyuk, Ped, Nusapenida, Kabupaten Klungkung, Bali 80771',\n",
       "  'Jl. Ped - Buyuk, Banjar Bodong, Desa Ped, Kec Nusa Penida, Kabupaten Klungkung',\n",
       "  'Caturtunggal, Kec. Depok, Kabupaten Sleman, Daerah Istimewa Yogyakarta 55222',\n",
       "  'Jalan Raya Ped Banjar Bodong Desa Ped Nusa Penida, Ped, Nusa Penida, Ped, Nusapenida, Kabupaten Klungkung, Bali 80771',\n",
       "  'Sinduharjo, Ngaglik, DI Sleman, Yogyakarta',\n",
       "  'Batununggul, Nusapenida, Kabupaten Klungkung, Bali 80771',\n",
       "  'Jl. Batumulapan, Batununggul, Kec. Nusa Penida,',\n",
       "  'Suana, Nusapenida, Kabupaten Klungkung, Bali 80771',\n",
       "  'Jl. Ped - Buyuk, Ped, Nusapenida, Kabupaten Klungkung, Bali 80771',\n",
       "  'Batununggul, Nusapenida, Klungkung Regency, Bali 80771',\n",
       "  'Jl. Raya Toya Pakeh - Ped, Ped, Nusapenida, Kabupaten Klungkung, Bali 80771',\n",
       "  'Tamantirto, Kasihan, Bantul, Daerah Istimewa Yogyakarta 55184',\n",
       "  'Pakualaman, Kota Yogyakarta, Daerah Istimewa Yogyakarta 55166',\n",
       "  'Sanggrahan, Maguwoharjo, Kec. Depok, Kabupaten Sleman, Daerah Istimewa Yogyakarta 55281',\n",
       "  'Jl. Pantai Bingin, Pecatu, Kuta Sel., Kabupaten Badung, Bali 80361, Indonesia',\n",
       "  'Jl. Pantai Bingin, Pecatu, Kuta Sel., Kabupaten Badung, Bali 80361, Indonesia',\n",
       "  'Jl. Raya Pantai Berawa, Tibubeneng, Kuta Utara, Kabupaten Badung, Bali 80361, Indonesia',\n",
       "  'Jl. Bangbang Metuug, Pecatu, Kec. Kuta Sel., Kabupaten Badung, Bali 80361, Indonesia',\n",
       "  'Jl. Tanah Barak, Canggu, Kec. Kuta Utara, Kabupaten Badung, Bali 80351, Indonesia',\n",
       "  'Jl. Gn. Tengger, Pecatu, Kec. Kuta Sel., Kabupaten Badung, Bali 80361, Indonesia',\n",
       "  'Jl. Gn. Sari, Kecamatan Ubud, Kabupaten Gianyar, Bali, Indonesia',\n",
       "  'Jl. Sri Wedari, Ubud, Kabupaten Gianyar, Bali 80571, Indonesia',\n",
       "  'Jl. Pantai Bingin, Pecatu, Kec. Kuta Sel., Kabupaten Badung, Bali 80361',\n",
       "  'Jl. Pantai Pererenan, Pererenan, Mengwi, Kabupaten Badung, Bali 80351',\n",
       "  'Jl. Raya Nusa Dua Selatan, Sawangan, Nusa Dua, Kabupaten Badung, Bali 80363',\n",
       "  'Canggu, North Kuta, Badung Regency, Bali, Indonesia',\n",
       "  'Kauman, Yogyakarta',\n",
       "  'Kec. Ngaglik, Kota Yogyakarta, Daerah Istimewa Yogyakarta 55581',\n",
       "  'Kutuh, Kec. Kuta Sel., Kabupaten Badung, Bali 80361',\n",
       "  'Jl. Raya Kendran, Kenderan, Kec. Tegallalang, Kabupaten Gianyar, Bali 80561',\n",
       "  'Jl. Pantai Suluban, Pecatu, Kec. Kuta Sel., Kabupaten Badung, Bali 80361, Indonesia',\n",
       "  'Banjar Dukuh, Kenderan, Kec. Tegallalang, Kabupaten Gianyar, Bali 80561, Indonesia',\n",
       "  'Pecatu, South Kuta, Badung Regency, Bali 80361, Indonesia',\n",
       "  'Ngentak, Sinduharjo, Kec. Ngaglik, Kabupaten Sleman, Daerah Istimewa Yogyakarta 55581, Indonesia',\n",
       "  'Baciro, Kec. Gondokusuman, Kota Yogyakarta, Daerah Istimewa Yogyakarta, Indonesia',\n",
       "  'Sanggrahan, Maguwoharjo, Kec. Depok, Kabupaten Sleman, Daerah Istimewa Yogyakarta 55281',\n",
       "  'Jalan Anggrek, Jimbaran, Kec. Kuta Sel., Kabupaten Badung, Bali 80361',\n",
       "  'Ungasan, Kec. Kuta Sel., Kabupaten Badung, Bali 80361, Indonesia',\n",
       "  'Jalan Tanah Ayu, Sibang Gede, Abiansemal, Kabupaten Badung, Bali',\n",
       "  'Jl. Raya Kayu Tulang, Canggu, Kec. Kuta Utara, Badung, Bali',\n",
       "  'Jalan Gunung Tengger, Pecatu, Kabupaten Badung, Bali',\n",
       "  'Jl. Raya Semat Gang Strawberry, Canggu, Kuta Utara, Kabupaten Badung, Bali, Indonesia',\n",
       "  'Jl. Pantai Pererenan Gg. Bima, Pererenan, Mengwi, Badung Regency, Bali 80351',\n",
       "  'Jalan Raya Uluwatu, Pecatu, South Kuta, Badung Regency, Bali 80361',\n",
       "  'South Kuta, Bali, Indonesia',\n",
       "  'Ungasan, South Kuta, Badung Regency, Bali, Indonesia',\n",
       "  'Jl. Pantai Bingin, Pecatu, Kec. Kuta Sel., Kabupaten Badung, Bali, Indonesia',\n",
       "  'Pecatu, Kec. Kuta Sel., Kabupaten Badung, Bali 80361, Indonesia',\n",
       "  'Kecamatan Kuta Utara, Bali, Indonesia',\n",
       "  'Canggu, Kec. Kuta Utara, Kabupaten Badung, Bali 80351, Indonesia',\n",
       "  'Jalan Tanah Barak, Canggu, Badung Regency, Bali, Indonesia',\n",
       "  'Alang Alang Residence Jimbaran, Jimbaran (Bali), Indonesia, 80361',\n",
       "  'Jl. Tirta Tawar, Petulu, Kecamatan Ubud, Kabupaten Gianyar, Bali 80571',\n",
       "  'Ungasan 80361 Indonesia',\n",
       "  'Canggu, Kec. Kuta Utara, Kabupaten Badung, Bali 80351',\n",
       "  'Jalan Pantai Batu Bolong, Canggu, Kabupaten Badung, Bali',\n",
       "  'Pecatu, Kec. Kuta Sel., Kabupaten Badung, Bali',\n",
       "  'Jln Labuhan Sait Br. Dinas Kulat, Pecatu Uluwatu Uluwatu, Pecatu, South Kuta, Badung Regency, Bali 80361',\n",
       "  'Jl. Labuansait, Pecatu, Kuta Sel., Kabupaten Badung, Bali 80361',\n",
       "  'Peliatan, Ubud, Gianyar, Bali. 80571',\n",
       "  'Pura Wates Canggu No.39, Canggu, Kec. Kuta Utara, Kabupaten Badung, Bali 80351',\n",
       "  'C7X4+6V2, Jl. Raya Gelogor, Lodtunduh, Kecamatan Ubud, Kabupaten Gianyar, Bali 80571',\n",
       "  'Dobalan, Timbulharjo, Sewon, Bantul 55185',\n",
       "  'Jl. Bumbak Umalas, Kerobokan Kelod, Kuta Utara, Badung Regency, Bali',\n",
       "  'Jl. Sri Wedari, Ubud, Kabupaten Gianyar, Bali 80571, Indonesia',\n",
       "  'Jl. Raya Kendran, Kenderan, Kec. Tegallalang, Kabupaten Gianyar, Bali 80561',\n",
       "  'Banjar Dukuh, Kenderan, Kec. Tegallalang, Kabupaten Gianyar, Bali 80561, Indonesia',\n",
       "  'Jl. Raya Semat Gang Strawberry, Canggu, Kuta Utara, Kabupaten Badung, Bali, Indonesia',\n",
       "  'Dobalan, Timbulharjo, Sewon, Bantul 55185',\n",
       "  'Perum Jogja Town House 3, Kab. Bantul, Daerah Istimewa Yogyakarta 55198',\n",
       "  'Juwangen, Purwomartani, Kec. Kalasan, Kabupaten Sleman, Daerah Istimewa Yogyakarta 55571',\n",
       "  'Sinduadi, Kec. Mlati, Kabupaten Sleman, Daerah Istimewa Yogyakarta, 55284',\n",
       "  'Kecamatan Kraton, Kota Yogyakarta, Daerah Istimewa Yogyakarta 55131',\n",
       "  'Tamanan, Kec. Banguntapan, Kabupaten Bantul, Daerah Istimewa Yogyakarta 55191',\n",
       "  'Pura Wates Canggu No.39, Canggu, Kec. Kuta Utara, Kabupaten Badung, Bali 80351',\n",
       "  'Sinduadi, Kec. Mlati, Kabupaten Sleman, Daerah Istimewa Yogyakarta, 55284',\n",
       "  'gupasan, Kec. Gondomanan, Kota Yogyakarta, Daerah Istimewa Yogyakarta 55122',\n",
       "  'Caturtunggal, Kec. Depok, Kabupaten Sleman, Daerah Istimewa Yogyakarta 55222',\n",
       "  'Sinduharjo, Ngaglik, DI Sleman, Yogyakarta',\n",
       "  'Ngupasan, Kec. Gondomanan, Kota Yogyakarta, Daerah Istimewa Yogyakarta 55122',\n",
       "  'Panembahan, Kraton, Kota Yogyakarta, Daerah Istimewa Yogyakarta 55131',\n",
       "  'Tamantirto, Kasihan, Bantul, Daerah Istimewa Yogyakarta 55184',\n",
       "  'Pakualaman, Kota Yogyakarta, Daerah Istimewa Yogyakarta 55166',\n",
       "  'Condongcatur, Kec. Depok, Kabupaten Sleman, Daerah Istimewa Yogyakarta, 55581',\n",
       "  'Caturtunggal, Kec. Depok, Kabupaten Sleman, Daerah Istimewa Yogyakarta 55222',\n",
       "  'Sinduharjo, Ngaglik, DI Sleman, Yogyakarta',\n",
       "  'Sanggrahan, Maguwoharjo, Kec. Depok, Kabupaten Sleman, Daerah Istimewa Yogyakarta 55281',\n",
       "  'Kec. Ngaglik, Kota Yogyakarta, Daerah Istimewa Yogyakarta 55581',\n",
       "  'Banjar Kutapang, Desa Batununggul, Nusapenida, Kabupaten Klungkung, Bali 80771',\n",
       "  'Jl. Ped - Buyuk, Ped, Nusapenida, Kabupaten Klungkung, Bali 80771',\n",
       "  'Jl. Ped - Buyuk, Banjar Bodong, Desa Ped, Kec Nusa Penida, Kabupaten Klungkung',\n",
       "  'Jalan Raya Ped Banjar Bodong Desa Ped Nusa Penida, Ped, Nusa Penida, Ped, Nusapenida, Kabupaten Klungkung, Bali 80771',\n",
       "  'Batununggul, Nusapenida, Kabupaten Klungkung, Bali 80771',\n",
       "  'Jl. Batumulapan, Batununggul, Kec. Nusa Penida,',\n",
       "  'Jl. Ped - Buyuk, Banjar Bodong, Desa Ped, Kec Nusa Penida, Kabupaten Klungkung',\n",
       "  'Jalan Raya Ped Banjar Bodong Desa Ped Nusa Penida, Ped, Nusa Penida, Ped, Nusapenida, Kabupaten Klungkung, Bali 80771',\n",
       "  'Jl. Batumulapan, Batununggul, Kec. Nusa Penida,',\n",
       "  'Banjar Bodong, Desa Ped, Kec Nusa Penida, Kabupaten Klungkung',\n",
       "  'Banjar Kutapang, Desa Batununggul, Nusapenida, Kabupaten Klungkung, Bali 80771',\n",
       "  'Jalan Raya Ped Banjar Bodong Desa Ped Nusa Penida, Ped, Nusa Penida, Ped, Nusapenida, Kabupaten Klungkung, Bali 80771',\n",
       "  'Batununggul, Nusapenida, Kabupaten Klungkung, Bali 80771',\n",
       "  'Suana, Nusapenida, Kabupaten Klungkung, Bali 80771',\n",
       "  'Jl. Raya Toya Pakeh - Ped, Ped, Nusapenida, Kabupaten Klungkung, Bali 80771',\n",
       "  'Suana, Nusapenida, Kabupaten Klungkung, Bali 80771',\n",
       "  'Jl. Ped - Buyuk, Ped, Nusapenida, Kabupaten Klungkung, Bali 80771',\n",
       "  'Batununggul, Nusapenida, Klungkung Regency, Bali 80771',\n",
       "  'Jl. Raya Toya Pakeh - Ped, Ped, Nusapenida, Kabupaten Klungkung, Bali 80771',\n",
       "  'Banjar Bodong, Desa Ped, Kec Nusa Penida, Kabupaten Klungkung',\n",
       "  'Kutuh, Kec. Kuta Sel., Kabupaten Badung, Bali 80361',\n",
       "  'Jl. Bumbak Umalas, Kerobokan Kelod, Kuta Utara, Badung Regency, Bali',\n",
       "  'Jl. Raya Nusa Dua Selatan, Sawangan, Nusa Dua, Kabupaten Badung, Bali 80363',\n",
       "  'Gg. Meregan &, Jl. Toya Ning II, Ungasan, South Kuta, Badung Regency, Bali',\n",
       "  'Pura Wates Canggu No.39, Canggu, Kec. Kuta Utara, Kabupaten Badung, Bali 80351',\n",
       "  'Nusa Dua, Kuta Selatan, Badung, Bali 80361',\n",
       "  'Jl. Pantai Pererenan, Pererenan, Mengwi, Kabupaten Badung, Bali 80351',\n",
       "  'Jl. Raya Nusa Dua Selatan, Sawangan, Nusa Dua, Kabupaten Badung, Bali 80363',\n",
       "  'Jl. Pantai Suluban, Pecatu, Kec. Kuta Sel., Kabupaten Badung, Bali 80361, Indonesia',\n",
       "  'Jl. Pantai Bingin, Pecatu, Kuta Sel., Kabupaten Badung, Bali 80361, Indonesia',\n",
       "  'Jl. Tanah Barak, Canggu, Kec. Kuta Utara, Kabupaten Badung, Bali 80351, Indonesia',\n",
       "  'Jl. Gn. Sari, Kecamatan Ubud, Kabupaten Gianyar, Bali, Indonesia',\n",
       "  'South Kuta, Bali, Indonesia',\n",
       "  'Kecamatan Kuta Utara, Bali, Indonesia',\n",
       "  'Ungasan 80361 Indonesia',\n",
       "  'Ungasan, Kec. Kuta Sel., Kabupaten Badung, Bali 80361',\n",
       "  'Kutuh, Kec. Kuta Sel., Kabupaten Badung, Bali 80361',\n",
       "  'C7X4+6V2, Jl. Raya Gelogor, Lodtunduh, Kecamatan Ubud, Kabupaten Gianyar, Bali 80571',\n",
       "  'Pecatu, South Kuta, Badung Regency, Bali 80361, Indonesia',\n",
       "  'Baciro, Kec. Gondokusuman, Kota Yogyakarta, Daerah Istimewa Yogyakarta, Indonesia',\n",
       "  'Jalan Anggrek, Jimbaran, Kec. Kuta Sel., Kabupaten Badung, Bali 80361',\n",
       "  'Jl. Sri Wedari, Ubud, Kabupaten Gianyar, Bali 80571, Indonesia',\n",
       "  'Jl. Pantai Bingin, Pecatu, Kec. Kuta Sel., Kabupaten Badung, Bali 80361',\n",
       "  'Kutuh, Kec. Kuta Sel., Kabupaten Badung, Bali 80361',\n",
       "  'Pecatu, Kec. Kuta Sel., Kabupaten Badung, Bali',\n",
       "  'Jln Labuhan Sait Br. Dinas Kulat, Pecatu Uluwatu Uluwatu, Pecatu, South Kuta, Badung Regency, Bali 80361',\n",
       "  'Jl. Labuansait, Pecatu, Kuta Sel., Kabupaten Badung, Bali 80361',\n",
       "  '8°49\\'51.7\"S 115°09\\'03.0\"E',\n",
       "  'Jl. Bumbak Umalas, Kerobokan Kelod, Kuta Utara, Badung Regency, Bali',\n",
       "  'Jl. Pantai Bingin, Pecatu, Kuta Sel., Kabupaten Badung, Bali 80361, Indonesia',\n",
       "  'Ungasan, Kec. Kuta Sel., Kabupaten Badung, Bali 80361, Indonesia',\n",
       "  'Jl. Raya Kayu Tulang, Canggu, Kec. Kuta Utara, Badung, Bali',\n",
       "  'Jalan Gunung Tengger, Pecatu, Kabupaten Badung, Bali',\n",
       "  'Pecatu, South Kuta, Badung Regency, Bali 80361, Indonesia',\n",
       "  'Ngentak, Sinduharjo, Kec. Ngaglik, Kabupaten Sleman, Daerah Istimewa Yogyakarta 55581, Indonesia',\n",
       "  'Baciro, Kec. Gondokusuman, Kota Yogyakarta, Daerah Istimewa Yogyakarta, Indonesia',\n",
       "  'Peliatan, Ubud, Gianyar, Bali. 80571',\n",
       "  'Jl. Raya Pantai Berawa, Tibubeneng, Kuta Utara, Kabupaten Badung, Bali 80361, Indonesia',\n",
       "  'Jl. Bangbang Metuug, Pecatu, Kec. Kuta Sel., Kabupaten Badung, Bali 80361, Indonesia',\n",
       "  'Jl. Tanah Barak, Canggu, Kec. Kuta Utara, Kabupaten Badung, Bali 80351, Indonesia',\n",
       "  'Jl. Raya Semat Gang Strawberry, Canggu, Kuta Utara, Kabupaten Badung, Bali, Indonesia',\n",
       "  'Jalan Raya Uluwatu, Pecatu, South Kuta, Badung Regency, Bali 80361',\n",
       "  'Ungasan, South Kuta, Badung Regency, Bali, Indonesia',\n",
       "  'Sanggrahan, Maguwoharjo, Kec. Depok, Kabupaten Sleman, Daerah Istimewa Yogyakarta 55281',\n",
       "  'Ungasan, Kec. Kuta Sel., Kabupaten Badung, Bali 80361, Indonesia',\n",
       "  'Jalan Tanah Ayu, Sibang Gede, Abiansemal, Kabupaten Badung, Bali',\n",
       "  'Jl. Gn. Tengger, Pecatu, Kec. Kuta Sel., Kabupaten Badung, Bali 80361, Indonesia',\n",
       "  'Jl. Gn. Sari, Kecamatan Ubud, Kabupaten Gianyar, Bali, Indonesia',\n",
       "  'Jl. Sri Wedari, Ubud, Kabupaten Gianyar, Bali 80571, Indonesia',\n",
       "  'Jl. Pantai Bingin, Pecatu, Kec. Kuta Sel., Kabupaten Badung, Bali, Indonesia',\n",
       "  'Kecamatan Kuta Utara, Bali, Indonesia',\n",
       "  'Canggu, Kec. Kuta Utara, Kabupaten Badung, Bali 80351, Indonesia',\n",
       "  'Ungasan, South Kuta, Badung Regency, Bali, Indonesia',\n",
       "  'Jl. Pantai Bingin, Pecatu, Kec. Kuta Sel., Kabupaten Badung, Bali 80361',\n",
       "  'Jl. Raya Nusa Dua Selatan, Sawangan, Nusa Dua, Kabupaten Badung, Bali 80363',\n",
       "  'Canggu, North Kuta, Badung Regency, Bali, Indonesia',\n",
       "  'Jalan Tanah Barak, Canggu, Badung Regency, Bali, Indonesia',\n",
       "  'Jl. Tirta Tawar, Petulu, Kecamatan Ubud, Kabupaten Gianyar, Bali 80571',\n",
       "  'Canggu, Kec. Kuta Utara, Kabupaten Badung, Bali 80351',\n",
       "  'Jl. Pantai Suluban, Pecatu, Kec. Kuta Sel., Kabupaten Badung, Bali 80361, Indonesia',\n",
       "  'Sanggrahan, Maguwoharjo, Kec. Depok, Kabupaten Sleman, Daerah Istimewa Yogyakarta 55281',\n",
       "  'Jalan Anggrek, Jimbaran, Kec. Kuta Sel., Kabupaten Badung, Bali 80361',\n",
       "  'Ungasan, Kec. Kuta Sel., Kabupaten Badung, Bali 80361, Indonesia',\n",
       "  'Jalan Tanah Ayu, Sibang Gede, Abiansemal, Kabupaten Badung, Bali',\n",
       "  'Jl. Raya Kayu Tulang, Canggu, Kec. Kuta Utara, Badung, Bali',\n",
       "  'Jalan Gunung Tengger, Pecatu, Kabupaten Badung, Bali',\n",
       "  'Jl. Raya Semat Gang Strawberry, Canggu, Kuta Utara, Kabupaten Badung, Bali, Indonesia',\n",
       "  'Jalan Raya Uluwatu, Pecatu, South Kuta, Badung Regency, Bali 80361'],\n",
       " 'Bathroom': ['1',\n",
       "  '1',\n",
       "  '1',\n",
       "  '1',\n",
       "  '4',\n",
       "  '1',\n",
       "  '1',\n",
       "  '1',\n",
       "  '1',\n",
       "  '1',\n",
       "  '3',\n",
       "  '1',\n",
       "  '3',\n",
       "  '1',\n",
       "  '1',\n",
       "  '1',\n",
       "  '2',\n",
       "  '3',\n",
       "  '1',\n",
       "  '2',\n",
       "  '2',\n",
       "  '2',\n",
       "  '3',\n",
       "  '3',\n",
       "  '2',\n",
       "  '3',\n",
       "  '3',\n",
       "  '1',\n",
       "  '5',\n",
       "  '6',\n",
       "  '3',\n",
       "  '4',\n",
       "  '3',\n",
       "  '3',\n",
       "  '2',\n",
       "  '1',\n",
       "  '1',\n",
       "  '1',\n",
       "  '6',\n",
       "  '1',\n",
       "  '4',\n",
       "  '1',\n",
       "  '1',\n",
       "  '1',\n",
       "  '3',\n",
       "  '2',\n",
       "  '1',\n",
       "  '1',\n",
       "  '4',\n",
       "  '2',\n",
       "  '1',\n",
       "  '1',\n",
       "  '1',\n",
       "  '1',\n",
       "  '1',\n",
       "  '1',\n",
       "  '3',\n",
       "  '4',\n",
       "  '4',\n",
       "  '1',\n",
       "  '3',\n",
       "  '1',\n",
       "  '4',\n",
       "  '3',\n",
       "  '3',\n",
       "  '1',\n",
       "  '1',\n",
       "  '1',\n",
       "  '3',\n",
       "  '4',\n",
       "  '3',\n",
       "  '2',\n",
       "  '2',\n",
       "  '3',\n",
       "  '3',\n",
       "  '1',\n",
       "  '1',\n",
       "  '1',\n",
       "  '3',\n",
       "  '1',\n",
       "  '1',\n",
       "  '4',\n",
       "  '1',\n",
       "  '1',\n",
       "  '1',\n",
       "  '1',\n",
       "  '1',\n",
       "  '5',\n",
       "  '1',\n",
       "  '5',\n",
       "  '1',\n",
       "  '1',\n",
       "  '1',\n",
       "  '4',\n",
       "  '1',\n",
       "  '1',\n",
       "  '2',\n",
       "  '2',\n",
       "  '3',\n",
       "  '2',\n",
       "  '4',\n",
       "  '1',\n",
       "  '1',\n",
       "  '1',\n",
       "  '3',\n",
       "  '3',\n",
       "  '5',\n",
       "  '3',\n",
       "  '3',\n",
       "  '3',\n",
       "  '2',\n",
       "  '3',\n",
       "  '4',\n",
       "  '6',\n",
       "  '4',\n",
       "  '1',\n",
       "  '6',\n",
       "  '1',\n",
       "  '4',\n",
       "  '3',\n",
       "  '6',\n",
       "  '4',\n",
       "  '2',\n",
       "  '3',\n",
       "  '1',\n",
       "  '1',\n",
       "  '1',\n",
       "  '1',\n",
       "  '1',\n",
       "  '1',\n",
       "  '1',\n",
       "  '1',\n",
       "  '1',\n",
       "  '1',\n",
       "  '1',\n",
       "  '1',\n",
       "  '1',\n",
       "  '1',\n",
       "  '1',\n",
       "  '1',\n",
       "  '3',\n",
       "  '2',\n",
       "  '1',\n",
       "  '1',\n",
       "  '3',\n",
       "  '2',\n",
       "  '3',\n",
       "  '2',\n",
       "  '2',\n",
       "  '2',\n",
       "  '1',\n",
       "  '3',\n",
       "  '1',\n",
       "  '1',\n",
       "  '1',\n",
       "  '3',\n",
       "  '1',\n",
       "  '1',\n",
       "  '5',\n",
       "  '2',\n",
       "  '3',\n",
       "  '2',\n",
       "  '3',\n",
       "  '3',\n",
       "  '2',\n",
       "  '4',\n",
       "  '4',\n",
       "  '3',\n",
       "  '1',\n",
       "  '4',\n",
       "  '1',\n",
       "  '2',\n",
       "  '2',\n",
       "  '1',\n",
       "  '3',\n",
       "  '1',\n",
       "  '1',\n",
       "  '3',\n",
       "  '4',\n",
       "  '3',\n",
       "  '1',\n",
       "  '1',\n",
       "  '1',\n",
       "  '1',\n",
       "  '1',\n",
       "  '1',\n",
       "  '4',\n",
       "  '2',\n",
       "  '3',\n",
       "  '3',\n",
       "  '1',\n",
       "  '3',\n",
       "  '4',\n",
       "  '1',\n",
       "  '1',\n",
       "  '1',\n",
       "  '4',\n",
       "  '4',\n",
       "  '3',\n",
       "  '1',\n",
       "  '1',\n",
       "  '1',\n",
       "  '1',\n",
       "  '1',\n",
       "  '2',\n",
       "  '2',\n",
       "  '3',\n",
       "  '3',\n",
       "  '1',\n",
       "  '1',\n",
       "  '1',\n",
       "  '1'],\n",
       " 'Bedroom': ['1',\n",
       "  '1',\n",
       "  '1',\n",
       "  '1',\n",
       "  '4',\n",
       "  '1',\n",
       "  '1',\n",
       "  '1',\n",
       "  '1',\n",
       "  '1',\n",
       "  '3',\n",
       "  '1',\n",
       "  '3',\n",
       "  '1',\n",
       "  '1',\n",
       "  '1',\n",
       "  '2',\n",
       "  '3',\n",
       "  '1',\n",
       "  '2',\n",
       "  '2',\n",
       "  '2',\n",
       "  '3',\n",
       "  '3',\n",
       "  '2',\n",
       "  '3',\n",
       "  '3',\n",
       "  '1',\n",
       "  '5',\n",
       "  '6',\n",
       "  '3',\n",
       "  '4',\n",
       "  '3',\n",
       "  '3',\n",
       "  '2',\n",
       "  '1',\n",
       "  '1',\n",
       "  '1',\n",
       "  '6',\n",
       "  '1',\n",
       "  '4',\n",
       "  '1',\n",
       "  '1',\n",
       "  '1',\n",
       "  '3',\n",
       "  '2',\n",
       "  '1',\n",
       "  '1',\n",
       "  '4',\n",
       "  '2',\n",
       "  '1',\n",
       "  '1',\n",
       "  '1',\n",
       "  '1',\n",
       "  '1',\n",
       "  '1',\n",
       "  '3',\n",
       "  '4',\n",
       "  '4',\n",
       "  '1',\n",
       "  '3',\n",
       "  '1',\n",
       "  '4',\n",
       "  '3',\n",
       "  '3',\n",
       "  '1',\n",
       "  '1',\n",
       "  '1',\n",
       "  '3',\n",
       "  '4',\n",
       "  '3',\n",
       "  '2',\n",
       "  '2',\n",
       "  '3',\n",
       "  '3',\n",
       "  '1',\n",
       "  '1',\n",
       "  '1',\n",
       "  '3',\n",
       "  '1',\n",
       "  '1',\n",
       "  '4',\n",
       "  '1',\n",
       "  '1',\n",
       "  '1',\n",
       "  '1',\n",
       "  '1',\n",
       "  '5',\n",
       "  '1',\n",
       "  '5',\n",
       "  '1',\n",
       "  '1',\n",
       "  '1',\n",
       "  '4',\n",
       "  '1',\n",
       "  '1',\n",
       "  '2',\n",
       "  '2',\n",
       "  '3',\n",
       "  '2',\n",
       "  '4',\n",
       "  '1',\n",
       "  '1',\n",
       "  '1',\n",
       "  '3',\n",
       "  '3',\n",
       "  '5',\n",
       "  '3',\n",
       "  '3',\n",
       "  '3',\n",
       "  '2',\n",
       "  '3',\n",
       "  '4',\n",
       "  '6',\n",
       "  '4',\n",
       "  '1',\n",
       "  '6',\n",
       "  '1',\n",
       "  '4',\n",
       "  '3',\n",
       "  '6',\n",
       "  '4',\n",
       "  '2',\n",
       "  '3',\n",
       "  '1',\n",
       "  '1',\n",
       "  '1',\n",
       "  '1',\n",
       "  '1',\n",
       "  '1',\n",
       "  '1',\n",
       "  '1',\n",
       "  '1',\n",
       "  '1',\n",
       "  '1',\n",
       "  '1',\n",
       "  '1',\n",
       "  '1',\n",
       "  '1',\n",
       "  '1',\n",
       "  '3',\n",
       "  '2',\n",
       "  '1',\n",
       "  '1',\n",
       "  '3',\n",
       "  '2',\n",
       "  '3',\n",
       "  '2',\n",
       "  '2',\n",
       "  '2',\n",
       "  '1',\n",
       "  '3',\n",
       "  '1',\n",
       "  '1',\n",
       "  '1',\n",
       "  '3',\n",
       "  '1',\n",
       "  '1',\n",
       "  '5',\n",
       "  '2',\n",
       "  '3',\n",
       "  '2',\n",
       "  '3',\n",
       "  '3',\n",
       "  '2',\n",
       "  '4',\n",
       "  '4',\n",
       "  '3',\n",
       "  '1',\n",
       "  '4',\n",
       "  '1',\n",
       "  '2',\n",
       "  '2',\n",
       "  '1',\n",
       "  '3',\n",
       "  '1',\n",
       "  '1',\n",
       "  '3',\n",
       "  '4',\n",
       "  '3',\n",
       "  '1',\n",
       "  '1',\n",
       "  '1',\n",
       "  '1',\n",
       "  '1',\n",
       "  '1',\n",
       "  '4',\n",
       "  '2',\n",
       "  '3',\n",
       "  '3',\n",
       "  '1',\n",
       "  '3',\n",
       "  '4',\n",
       "  '1',\n",
       "  '1',\n",
       "  '1',\n",
       "  '4',\n",
       "  '4',\n",
       "  '3',\n",
       "  '1',\n",
       "  '1',\n",
       "  '1',\n",
       "  '1',\n",
       "  '1',\n",
       "  '2',\n",
       "  '2',\n",
       "  '3',\n",
       "  '3',\n",
       "  '1',\n",
       "  '1',\n",
       "  '1',\n",
       "  '1'],\n",
       " 'Price': ['Start from USD $41 per night',\n",
       "  'Start from $23 per night',\n",
       "  'Start from $29 USD per night',\n",
       "  'Start from $1,060 USD per Month',\n",
       "  'Start from $5,590 USD per Month',\n",
       "  'Start from $1,580 USD per Month',\n",
       "  'Start from $1,580 USD per Month',\n",
       "  'Start from $990 USD per Month',\n",
       "  'Start from $26 USD',\n",
       "  'Start from $1,380 per Month',\n",
       "  'Start from $1,980 USD per Month',\n",
       "  'Start from $26 USD',\n",
       "  'Start from $5,260 USD per Month',\n",
       "  'Start from $730 USD per Month',\n",
       "  'Start from $690 USD per Month',\n",
       "  'Start from $890 USD per Month',\n",
       "  'Start from $4,750 USD per Month',\n",
       "  'Start from $13,160 USD per Month',\n",
       "  'Start from $1,580 USD per Month',\n",
       "  'Start from $2,346 USD per Month',\n",
       "  'Start from $2,200 USD per Month',\n",
       "  'Start from $2,400 USD per Month',\n",
       "  'Start from $2,050 USD per Month',\n",
       "  'Start from $3,200 USD per Month',\n",
       "  'Start from $151 USD for 15 year lease',\n",
       "  'Mulai dari Rp1.201.000 Rupiah per Malam',\n",
       "  'Mulai dari Rp1.020.000 Rupiah per Malam',\n",
       "  'Mulai dari Rp410.500 USD per Malam',\n",
       "  'Mulai dari Rp2.160.000 Rupiah per Malam',\n",
       "  'Mulai dari Rp3.315.000 Rupiah per Malam',\n",
       "  'Mulai dari Rp1.930.000 Rupiah per Malam',\n",
       "  'Mulai dari Rp1.750.000 Rupiah per Malam',\n",
       "  'Mulai dari Rp1.735.000 Rupiah per Malam',\n",
       "  'Mulai dari Rp1.445.000 Rupiah per Malam',\n",
       "  'Start from 16,335 USD per year',\n",
       "  'Start from $13 per night',\n",
       "  'Start from $24 per night',\n",
       "  'Start from USD $41 per night',\n",
       "  'Mulai dari Rp2.740.000 Rupiah per Malam',\n",
       "  'Start from $23 per night',\n",
       "  'Mulai dari Rp3.270.000 Rupiah per Malam',\n",
       "  'Start from $18 per night',\n",
       "  'Start from $29 USD per night',\n",
       "  'Start from $19 USD per night',\n",
       "  'Start from $49 USD per night',\n",
       "  'Start from $30 USD per night',\n",
       "  'Start from $19 USD per night',\n",
       "  'Mulai dari Rp490.000 Rupiah per Malam',\n",
       "  'Mulai dari R2.175.000 Rupiah per Malam',\n",
       "  'Mulai dari Rp1.231.000 Rupiah per Malam',\n",
       "  'Start from $1,060 USD per Month',\n",
       "  'Start from $920 USD per Month',\n",
       "  'Start from $790 USD per Month',\n",
       "  'Start from $1,090 USD per Month',\n",
       "  'Start from $790 USD per Month',\n",
       "  'Start from $790 USD per Month',\n",
       "  'Start from $1,980 USD per Month',\n",
       "  'Start from $4,940 USD per Month',\n",
       "  'Start from $5,590 USD per Month',\n",
       "  'Start from $1,290 USD per Month',\n",
       "  'Start from $13,160 USD per Month',\n",
       "  'Start from $1,780 USD per Month',\n",
       "  'Start from $100 USD',\n",
       "  'Mulai dari Rp2.280.000 Rupiah per Malam',\n",
       "  'Start from $1,970 USD per Month',\n",
       "  'Start from $40 USD',\n",
       "  'Start from $600 USD per Month',\n",
       "  'Start from $26 USD',\n",
       "  'Start from $4,600 USD per Month',\n",
       "  'Start from $4,920 USD per Month',\n",
       "  'Start from $1,380 USD per Month',\n",
       "  'Start from $1,780 USD per Month',\n",
       "  'Start from $1,780 USD per Month',\n",
       "  'Start from $2,570 USD per Month',\n",
       "  'Start from $5,260 USD per Month',\n",
       "  'Start from $990 USD per Month',\n",
       "  'Start from $790 USD per Month',\n",
       "  'Start from $790 USD per Month',\n",
       "  '',\n",
       "  'Start from $730 USD per Month',\n",
       "  'Start from $790 USD per Month',\n",
       "  'Start from $2,960 USD per Month',\n",
       "  'Start from $1,580 USD per Month',\n",
       "  'Start from $1,580 USD per Month',\n",
       "  'Start from $1,220 USD per Month',\n",
       "  'Start from $890 USD per Month',\n",
       "  'Start from $890 USD per Month',\n",
       "  'Start from $3,350 USD per Month',\n",
       "  'Start from $690 USD per Month',\n",
       "  'Start from $3,290 USD per Month',\n",
       "  'Start from $820 USD per Month',\n",
       "  'Start from $690 USD per Month',\n",
       "  'Start from $1,380 per Month',\n",
       "  'Start from $4,930 USD per Month',\n",
       "  'Start from $1,390 USD per Month',\n",
       "  'Start from $890 USD per Month',\n",
       "  'Start from $2,200 USD per Month',\n",
       "  'Start from $151 USD for 15 year lease',\n",
       "  'Mulai dari Rp1.201.000 Rupiah per Malam',\n",
       "  'Start from $4,750 USD per Month',\n",
       "  'Start from $4,940 USD per Month',\n",
       "  'Start from $40 USD',\n",
       "  'Start from $26 USD',\n",
       "  'Start from $790 USD per Month',\n",
       "  'Mulai dari Rp1.201.000 Rupiah per Malam',\n",
       "  'Mulai dari Rp1.020.000 Rupiah per Malam',\n",
       "  'Mulai dari Rp2.160.000 Rupiah per Malam',\n",
       "  'Mulai dari Rp1.930.000 Rupiah per Malam',\n",
       "  'Mulai dari Rp1.735.000 Rupiah per Malam',\n",
       "  'Mulai dari Rp1.445.000 Rupiah per Malam',\n",
       "  'Start from $2,200 USD per Month',\n",
       "  'Mulai dari Rp1.930.000 Rupiah per Malam',\n",
       "  'Mulai dari Rp1.750.000 Rupiah per Malam',\n",
       "  'Mulai dari Rp2.740.000 Rupiah per Malam',\n",
       "  'Mulai dari Rp3.270.000 Rupiah per Malam',\n",
       "  'Mulai dari Rp410.500 USD per Malam',\n",
       "  'Mulai dari Rp3.315.000 Rupiah per Malam',\n",
       "  'Mulai dari Rp490.000 Rupiah per Malam',\n",
       "  'Mulai dari R2.175.000 Rupiah per Malam',\n",
       "  'Mulai dari Rp1.231.000 Rupiah per Malam',\n",
       "  'Mulai dari Rp2.740.000 Rupiah per Malam',\n",
       "  'Mulai dari Rp3.270.000 Rupiah per Malam',\n",
       "  'Mulai dari Rp1.231.000 Rupiah per Malam',\n",
       "  'Mulai dari Rp2.280.000 Rupiah per Malam',\n",
       "  'Start from $13 per night',\n",
       "  'Start from $24 per night',\n",
       "  'Start from USD $41 per night',\n",
       "  'Start from $23 per night',\n",
       "  'Start from $18 per night',\n",
       "  'Start from $29 USD per night',\n",
       "  'Start from USD $41 per night',\n",
       "  'Start from $23 per night',\n",
       "  'Start from $29 USD per night',\n",
       "  'Start from $990 USD per Month',\n",
       "  'Start from $13 per night',\n",
       "  'Start from $23 per night',\n",
       "  'Start from $18 per night',\n",
       "  'Start from $19 USD per night',\n",
       "  'Start from $19 USD per night',\n",
       "  'Start from $19 USD per night',\n",
       "  'Start from $49 USD per night',\n",
       "  'Start from $30 USD per night',\n",
       "  'Start from $19 USD per night',\n",
       "  'Start from $990 USD per Month',\n",
       "  'Start from $3,200 USD per Month',\n",
       "  'Start from $4,750 USD per Month',\n",
       "  'Start from $13,160 USD per Month',\n",
       "  'Start from $2,346 USD per Month',\n",
       "  'Start from $2,200 USD per Month',\n",
       "  'Start from $2,160 USD per Month',\n",
       "  'Start from $1,290 USD per Month',\n",
       "  'Start from $13,160 USD per Month',\n",
       "  'Start from $600 USD per Month',\n",
       "  'Start from $920 USD per Month',\n",
       "  'Start from $790 USD per Month',\n",
       "  'Start from $1,980 USD per Month',\n",
       "  'Start from $790 USD per Month',\n",
       "  'Start from $1,220 USD per Month',\n",
       "  'Start from $3,290 USD per Month',\n",
       "  'Start from $2,400 USD per Month',\n",
       "  'Start from $2,050 USD per Month',\n",
       "  'Start from $151 USD for 15 year lease',\n",
       "  'Start from $4,600 USD per Month',\n",
       "  'Start from $1,380 USD per Month',\n",
       "  'Start from $1,780 USD per Month',\n",
       "  'Start from $4,940 USD per Month',\n",
       "  'Start from $5,590 USD per Month',\n",
       "  'Start from $1,970 USD per Month',\n",
       "  'Start from $1,380 per Month',\n",
       "  'Start from $4,930 USD per Month',\n",
       "  'Start from $1,390 USD per Month',\n",
       "  'Start from 16,335 USD per year',\n",
       "  'Start from $4,750 USD per Month',\n",
       "  'Start from $920 USD per Month',\n",
       "  'Start from $2,570 USD per Month',\n",
       "  'Start from $990 USD per Month',\n",
       "  'Start from $790 USD per Month',\n",
       "  'Start from $4,600 USD per Month',\n",
       "  'Start from $4,920 USD per Month',\n",
       "  'Start from $1,380 USD per Month',\n",
       "  'Start from $890 USD per Month',\n",
       "  'Start from $790 USD per Month',\n",
       "  'Start from $1,090 USD per Month',\n",
       "  'Start from $790 USD per Month',\n",
       "  'Start from $790 USD per Month',\n",
       "  'Start from $730 USD per Month',\n",
       "  'Start from $2,960 USD per Month',\n",
       "  'Start from $1,780 USD per Month',\n",
       "  'Start from $2,570 USD per Month',\n",
       "  'Start from $5,260 USD per Month',\n",
       "  'Start from $790 USD per Month',\n",
       "  'Start from $1,980 USD per Month',\n",
       "  'Start from $4,940 USD per Month',\n",
       "  'Start from $1,580 USD per Month',\n",
       "  'Start from $1,220 USD per Month',\n",
       "  'Start from $890 USD per Month',\n",
       "  'Start from $2,960 USD per Month',\n",
       "  'Start from $5,590 USD per Month',\n",
       "  'Start from $13,160 USD per Month',\n",
       "  'Start from $1,780 USD per Month',\n",
       "  'Start from $890 USD per Month',\n",
       "  'Start from $690 USD per Month',\n",
       "  'Start from $820 USD per Month',\n",
       "  'Start from $600 USD per Month',\n",
       "  'Start from $1,780 USD per Month',\n",
       "  'Start from $1,780 USD per Month',\n",
       "  'Start from $2,570 USD per Month',\n",
       "  'Start from $5,260 USD per Month',\n",
       "  'Start from $990 USD per Month',\n",
       "  'Start from $790 USD per Month',\n",
       "  'Start from $790 USD per Month',\n",
       "  'Start from $730 USD per Month'],\n",
       " 'Title': ['Beachfront Bungalow w/ Sunset View',\n",
       "  'Soothing Sound of the Waves in a Beachfront Cabin',\n",
       "  'Nusa Penida New Beachfront Cottage with Cute Pool',\n",
       "  'Minimalist Room with Superb Ocean View at Bingin',\n",
       "  'Bohemian Beachfront Surf Villa by the Bingin Beach',\n",
       "  'Breathtaking Cabin Right on the Bingin Beach',\n",
       "  'Breathtaking Bingin Ocean View Room for Surfer',\n",
       "  'Sweet Beachfront Sunset View Bungalow in Penida by Bukit Vista',\n",
       "  'Peaceful Wooden Cabin in Ubud Beautiful Ricefield',\n",
       "  'Enchanting Hillside Cabin w/ Pool @ Uluwatu Temple',\n",
       "  'Ubud Summer House on the Edge of the Wilderness',\n",
       "  'Peaceful Wooden Cabin in Ubud Beautiful Ricefield',\n",
       "  'Monumental Ubud Bamboo House Jungle View',\n",
       "  'Serene Cabin with Gym & Fast Wifi in Uluwatu',\n",
       "  'Ecstatic Villa in Ubud w/ Greenery Garden View',\n",
       "  'Picturesque Cottage in the Heart of Ubud’s Nature',\n",
       "  'Mesmerizing 2BR Kokomo Villa in Umalas with Pool',\n",
       "  'Stunning Ocean View Nusa Dua Villa + Infinity pool',\n",
       "  'Breathtaking Bingin Ocean View Room for Surfer',\n",
       "  'Luxurious Private Villa with Pool in Idyllic Pecatu Retreat',\n",
       "  'Villa by Rice Fields in Canggu',\n",
       "  'Modern Breezy Homey 2BR Villa with Pool near GWK',\n",
       "  'Dainty Villa w/ Restful Pool for Group at Ungasan',\n",
       "  'Spacious New Tropical Villa w/ GWK View',\n",
       "  'Da Kelor',\n",
       "  'Tasteful Villa w/ Nice View of Rice Field in Jogja',\n",
       "  'Town House in a Quiet Residence near Ambarrukmo',\n",
       "  'Clean Room in Jogja Local Authentic Holiday House',\n",
       "  'Spacious 5BR Vacation Villa for Big Group in Jogja',\n",
       "  'Spacious Guest House for Group Vacations @ Jogja',\n",
       "  '3BR Javanese Traditional Relaxing Villa with Pool',\n",
       "  'Bukit Vista | Heritage Joglo Villa w/ Private Pool',\n",
       "  'Jogja Historical Home in Keraton Heritage Area',\n",
       "  'Jogja Strategic Getaway House for Group/Family',\n",
       "  'Casa Silvino',\n",
       "  'Breathtaking Ocean View Cabin w/ Wi-Fi & Breakfast',\n",
       "  'Stylish Rustic Cabin in Penida near Seaside Cafe',\n",
       "  'Beachfront Bungalow w/ Sunset View',\n",
       "  'Restful Villa in Jogja City – 10 mins from Tugu',\n",
       "  'Soothing Sound of the Waves in a Beachfront Cabin',\n",
       "  'Rare Luxurious Artistic Home w/ Private Pool',\n",
       "  'Penida Cabin for Diving & Snorkeling Enthusiasts',\n",
       "  'Nusa Penida New Beachfront Cottage with Cute Pool',\n",
       "  'Once in a Lifetime Hilltop Bungalow Experience',\n",
       "  '3 Deluxe Room in Nusa Penida – Right on the Beach',\n",
       "  'Magical Balinese Cabin in Nusa Penida w/ Sea View',\n",
       "  'Serene Wooden Cabin Near Banjar Nyuh Harbour',\n",
       "  'Tranquil Homestay with Serene Garden in West Jogja',\n",
       "  'Serene Javanese Home near Pakualaman Palace, Jogja',\n",
       "  'Vintage Jogja Villa with Waterfall View!',\n",
       "  'Minimalist Room with Superb Ocean View at Bingin',\n",
       "  'Bright & Sunny Guesthouse with Green Lawn and Pool',\n",
       "  'Remote Worker Heaven in Canggu with 200Mbps Wi-Fi',\n",
       "  'Summer Vibe Stay in Bingin with Pool + Fast WIFI',\n",
       "  'Tempting Summer Vibe GH in Canggu, Close to Beach',\n",
       "  'Laid-back in Uluwatu Bungalow w/ Pool & Fast Wifi',\n",
       "  'Ubud Summer House on the Edge of the Wilderness',\n",
       "  'Soothing Ubud Villa w/ Wide Appeasing Garden',\n",
       "  'Bohemian Beachfront Surf Villa by the Bingin Beach',\n",
       "  'Secluded Couple Getaway Villa – 7 mins from Beach',\n",
       "  'Stunning Ocean View Nusa Dua Villa + Infinity pool',\n",
       "  'Rare & Exclusive Villa in Canggu w/ Private Pool',\n",
       "  'Bukit Vista | Heritage Joglo Villa w/ Private Pool',\n",
       "  'Glamorous Residential in a Luxurious Complex Jogja',\n",
       "  'Dainty Villa w/ Restful Pool for Group at Ungasan',\n",
       "  'Amazing Villa with Pool and Scenic Rice Field View',\n",
       "  'Monthly Stay at Cool Uluwatu Surf Neighbourhood',\n",
       "  'Peaceful Wooden Cabin in Ubud Beautiful Ricefield',\n",
       "  'Bukit Vista | Stunning 3BR Villa Near Padang Beach',\n",
       "  'Rare Luxurious Artistic Home w/ Private Pool',\n",
       "  'Attractive Aesthetic Home near Lempuyangan Station',\n",
       "  'Vintage Jogja Villa with Waterfall View!',\n",
       "  'Quaint & Homey Balinese Villa w/ Private Pool',\n",
       "  'Tranquil 3BR Villa in Jimbaran with Wi-Fi + Pool',\n",
       "  'Monumental Ubud Bamboo House Jungle View',\n",
       "  'Secret Aesthetic Chamber at Canggu with Fast Wifi',\n",
       "  'Peaceful Uluwatu Cabin w/ Unspoiled Beaches Nearby',\n",
       "  'Authentic Private Room Close to Tons of Cafés',\n",
       "  'Lovely Private Pool Villa in Strategic Location',\n",
       "  'Serene Cabin with Gym & Fast Wifi in Uluwatu',\n",
       "  'Authentic Balinese Cabin near Beach | sterilized',\n",
       "  'Breezy Atmosphere Villa in Ungasan by Bukit Vista',\n",
       "  'Breathtaking Cabin Right on the Bingin Beach',\n",
       "  'Breathtaking Bingin Ocean View Room for Surfer',\n",
       "  'Antique Wooden House in Canggu by Bukit Vista #2',\n",
       "  'Bukit Vista | Strategic GH in Canggu w/ Pool',\n",
       "  'Tranquil Comfy Chamber 5-Min to Canggu Beach',\n",
       "  'Family Holiday House w/ Private Pool in Jimbaran',\n",
       "  'Ecstatic Villa in Ubud w/ Greenery Garden View',\n",
       "  'Dashing Vast Villa Centrally Located at Ungasan',\n",
       "  'Guesthouse for Digital Nomad In Heart of Canggu',\n",
       "  'Blissful Holiday Room in the Heart of Canggu',\n",
       "  'Enchanting Hillside Cabin w/ Pool @ Uluwatu Temple',\n",
       "  '4BR Homey Villa in Uluwatu | Kitchen + Wifi + Pool by Bukit Vista',\n",
       "  'Bukit Vista | Santorini Surfer Loft in Uluwatu',\n",
       "  'Picturesque Cottage in the Heart of Ubud’s Nature',\n",
       "  'Villa by Rice Fields in Canggu',\n",
       "  'Da Kelor',\n",
       "  'Tasteful Villa w/ Nice View of Rice Field in Jogja',\n",
       "  'Mesmerizing 2BR Kokomo Villa in Umalas with Pool',\n",
       "  'Soothing Ubud Villa w/ Wide Appeasing Garden',\n",
       "  'Amazing Villa with Pool and Scenic Rice Field View',\n",
       "  'Peaceful Wooden Cabin in Ubud Beautiful Ricefield',\n",
       "  'Authentic Private Room Close to Tons of Cafés',\n",
       "  'Tasteful Villa w/ Nice View of Rice Field in Jogja',\n",
       "  'Town House in a Quiet Residence near Ambarrukmo',\n",
       "  'Spacious 5BR Vacation Villa for Big Group in Jogja',\n",
       "  '3BR Javanese Traditional Relaxing Villa with Pool',\n",
       "  'Jogja Historical Home in Keraton Heritage Area',\n",
       "  'Jogja Strategic Getaway House for Group/Family',\n",
       "  'Villa by Rice Fields in Canggu',\n",
       "  '3BR Javanese Traditional Relaxing Villa with Pool',\n",
       "  'Bukit Vista | Heritage Joglo Villa w/ Private Pool',\n",
       "  'Restful Villa in Jogja City – 10 mins from Tugu',\n",
       "  'Rare Luxurious Artistic Home w/ Private Pool',\n",
       "  'Clean Room in Jogja Local Authentic Holiday House',\n",
       "  'Spacious Guest House for Group Vacations @ Jogja',\n",
       "  'Tranquil Homestay with Serene Garden in West Jogja',\n",
       "  'Serene Javanese Home near Pakualaman Palace, Jogja',\n",
       "  'Spacious Artist’s House w/ Many Creative Touches',\n",
       "  'Restful Villa in Jogja City – 10 mins from Tugu',\n",
       "  'Rare Luxurious Artistic Home w/ Private Pool',\n",
       "  'Vintage Jogja Villa with Waterfall View!',\n",
       "  'Glamorous Residential in a Luxurious Complex Jogja',\n",
       "  'Breathtaking Ocean View Cabin w/ Wi-Fi & Breakfast',\n",
       "  'Stylish Rustic Cabin in Penida near Seaside Cafe',\n",
       "  'Beachfront Bungalow w/ Sunset View',\n",
       "  'Soothing Sound of the Waves in a Beachfront Cabin',\n",
       "  'Penida Cabin for Diving & Snorkeling Enthusiasts',\n",
       "  'Nusa Penida New Beachfront Cottage with Cute Pool',\n",
       "  'Beachfront Bungalow w/ Sunset View',\n",
       "  'Soothing Sound of the Waves in a Beachfront Cabin',\n",
       "  'Nusa Penida New Beachfront Cottage with Cute Pool',\n",
       "  'Sweet Beachfront Sunset View Bungalow in Penida by Bukit Vista',\n",
       "  'Breathtaking Ocean View Cabin w/ Wi-Fi & Breakfast',\n",
       "  'Soothing Sound of the Waves in a Beachfront Cabin',\n",
       "  'Penida Cabin for Diving & Snorkeling Enthusiasts',\n",
       "  'Once in a Lifetime Hilltop Bungalow Experience',\n",
       "  'Serene Wooden Cabin Near Banjar Nyuh Harbour',\n",
       "  'Once in a Lifetime Hilltop Bungalow Experience',\n",
       "  '3 Deluxe Room in Nusa Penida – Right on the Beach',\n",
       "  'Magical Balinese Cabin in Nusa Penida w/ Sea View',\n",
       "  'Serene Wooden Cabin Near Banjar Nyuh Harbour',\n",
       "  'Sweet Beachfront Sunset View Bungalow in Penida by Bukit Vista',\n",
       "  'Spacious New Tropical Villa w/ GWK View',\n",
       "  'Mesmerizing 2BR Kokomo Villa in Umalas with Pool',\n",
       "  'Stunning Ocean View Nusa Dua Villa + Infinity pool',\n",
       "  'Luxurious Private Villa with Pool in Idyllic Pecatu Retreat',\n",
       "  'Villa by Rice Fields in Canggu',\n",
       "  'Secluded 2BR Villa w/ Pool @ Complex in Nusa Dua',\n",
       "  'Secluded Couple Getaway Villa – 7 mins from Beach',\n",
       "  'Stunning Ocean View Nusa Dua Villa + Infinity pool',\n",
       "  'Monthly Stay at Cool Uluwatu Surf Neighbourhood',\n",
       "  'Bright & Sunny Guesthouse with Green Lawn and Pool',\n",
       "  'Tempting Summer Vibe GH in Canggu, Close to Beach',\n",
       "  'Ubud Summer House on the Edge of the Wilderness',\n",
       "  'Authentic Balinese Cabin near Beach | sterilized',\n",
       "  'Antique Wooden House in Canggu by Bukit Vista #2',\n",
       "  'Dashing Vast Villa Centrally Located at Ungasan',\n",
       "  'Modern Breezy Homey 2BR Villa with Pool near GWK',\n",
       "  'Dainty Villa w/ Restful Pool for Group at Ungasan',\n",
       "  'Da Kelor',\n",
       "  'Bukit Vista | Stunning 3BR Villa Near Padang Beach',\n",
       "  'Attractive Aesthetic Home near Lempuyangan Station',\n",
       "  'Quaint & Homey Balinese Villa w/ Private Pool',\n",
       "  'Soothing Ubud Villa w/ Wide Appeasing Garden',\n",
       "  'Bohemian Beachfront Surf Villa by the Bingin Beach',\n",
       "  'Dainty Villa w/ Restful Pool for Group at Ungasan',\n",
       "  'Enchanting Hillside Cabin w/ Pool @ Uluwatu Temple',\n",
       "  '4BR Homey Villa in Uluwatu | Kitchen + Wifi + Pool by Bukit Vista',\n",
       "  'Bukit Vista | Santorini Surfer Loft in Uluwatu',\n",
       "  'Casa Silvino',\n",
       "  'Mesmerizing 2BR Kokomo Villa in Umalas with Pool',\n",
       "  'Bright & Sunny Guesthouse with Green Lawn and Pool',\n",
       "  'Tranquil 3BR Villa in Jimbaran with Wi-Fi + Pool',\n",
       "  'Secret Aesthetic Chamber at Canggu with Fast Wifi',\n",
       "  'Peaceful Uluwatu Cabin w/ Unspoiled Beaches Nearby',\n",
       "  'Bukit Vista | Stunning 3BR Villa Near Padang Beach',\n",
       "  'Rare Luxurious Artistic Home w/ Private Pool',\n",
       "  'Attractive Aesthetic Home near Lempuyangan Station',\n",
       "  'Picturesque Cottage in the Heart of Ubud’s Nature',\n",
       "  'Remote Worker Heaven in Canggu with 200Mbps Wi-Fi',\n",
       "  'Summer Vibe Stay in Bingin with Pool + Fast WIFI',\n",
       "  'Tempting Summer Vibe GH in Canggu, Close to Beach',\n",
       "  'Authentic Private Room Close to Tons of Cafés',\n",
       "  'Serene Cabin with Gym & Fast Wifi in Uluwatu',\n",
       "  'Breezy Atmosphere Villa in Ungasan by Bukit Vista',\n",
       "  'Vintage Jogja Villa with Waterfall View!',\n",
       "  'Tranquil 3BR Villa in Jimbaran with Wi-Fi + Pool',\n",
       "  'Monumental Ubud Bamboo House Jungle View',\n",
       "  'Laid-back in Uluwatu Bungalow w/ Pool & Fast Wifi',\n",
       "  'Ubud Summer House on the Edge of the Wilderness',\n",
       "  'Soothing Ubud Villa w/ Wide Appeasing Garden',\n",
       "  'Breathtaking Cabin Right on the Bingin Beach',\n",
       "  'Antique Wooden House in Canggu by Bukit Vista #2',\n",
       "  'Bukit Vista | Strategic GH in Canggu w/ Pool',\n",
       "  'Breezy Atmosphere Villa in Ungasan by Bukit Vista',\n",
       "  'Bohemian Beachfront Surf Villa by the Bingin Beach',\n",
       "  'Stunning Ocean View Nusa Dua Villa + Infinity pool',\n",
       "  'Rare & Exclusive Villa in Canggu w/ Private Pool',\n",
       "  'Tranquil Comfy Chamber 5-Min to Canggu Beach',\n",
       "  'Ecstatic Villa in Ubud w/ Greenery Garden View',\n",
       "  'Guesthouse for Digital Nomad In Heart of Canggu',\n",
       "  'Monthly Stay at Cool Uluwatu Surf Neighbourhood',\n",
       "  'Vintage Jogja Villa with Waterfall View!',\n",
       "  'Quaint & Homey Balinese Villa w/ Private Pool',\n",
       "  'Tranquil 3BR Villa in Jimbaran with Wi-Fi + Pool',\n",
       "  'Monumental Ubud Bamboo House Jungle View',\n",
       "  'Secret Aesthetic Chamber at Canggu with Fast Wifi',\n",
       "  'Peaceful Uluwatu Cabin w/ Unspoiled Beaches Nearby',\n",
       "  'Authentic Private Room Close to Tons of Cafés',\n",
       "  'Serene Cabin with Gym & Fast Wifi in Uluwatu']}"
      ]
     },
     "execution_count": 73,
     "metadata": {},
     "output_type": "execute_result"
    }
   ],
   "source": [
    "data"
   ]
  },
  {
   "cell_type": "code",
   "execution_count": 74,
   "id": "ccb35272",
   "metadata": {},
   "outputs": [
    {
     "data": {
      "text/html": [
       "<div>\n",
       "<style scoped>\n",
       "    .dataframe tbody tr th:only-of-type {\n",
       "        vertical-align: middle;\n",
       "    }\n",
       "\n",
       "    .dataframe tbody tr th {\n",
       "        vertical-align: top;\n",
       "    }\n",
       "\n",
       "    .dataframe thead th {\n",
       "        text-align: right;\n",
       "    }\n",
       "</style>\n",
       "<table border=\"1\" class=\"dataframe\">\n",
       "  <thead>\n",
       "    <tr style=\"text-align: right;\">\n",
       "      <th></th>\n",
       "      <th>Address</th>\n",
       "      <th>Bathroom</th>\n",
       "      <th>Bedroom</th>\n",
       "      <th>Price</th>\n",
       "      <th>Title</th>\n",
       "    </tr>\n",
       "  </thead>\n",
       "  <tbody>\n",
       "    <tr>\n",
       "      <th>0</th>\n",
       "      <td>Jl. Ped - Buyuk, Banjar Bodong, Desa Ped, Kec ...</td>\n",
       "      <td>1</td>\n",
       "      <td>1</td>\n",
       "      <td>Start from USD $41 per night</td>\n",
       "      <td>Beachfront Bungalow w/ Sunset View</td>\n",
       "    </tr>\n",
       "    <tr>\n",
       "      <th>1</th>\n",
       "      <td>Jalan Raya Ped Banjar Bodong Desa Ped Nusa Pen...</td>\n",
       "      <td>1</td>\n",
       "      <td>1</td>\n",
       "      <td>Start from $23 per night</td>\n",
       "      <td>Soothing Sound of the Waves in a Beachfront Cabin</td>\n",
       "    </tr>\n",
       "    <tr>\n",
       "      <th>2</th>\n",
       "      <td>Jl. Batumulapan, Batununggul, Kec. Nusa Penida,</td>\n",
       "      <td>1</td>\n",
       "      <td>1</td>\n",
       "      <td>Start from $29 USD per night</td>\n",
       "      <td>Nusa Penida New Beachfront Cottage with Cute Pool</td>\n",
       "    </tr>\n",
       "    <tr>\n",
       "      <th>3</th>\n",
       "      <td>Jl. Pantai Bingin, Pecatu, Kuta Sel., Kabupate...</td>\n",
       "      <td>1</td>\n",
       "      <td>1</td>\n",
       "      <td>Start from $1,060 USD per Month</td>\n",
       "      <td>Minimalist Room with Superb Ocean View at Bingin</td>\n",
       "    </tr>\n",
       "    <tr>\n",
       "      <th>4</th>\n",
       "      <td>Jl. Pantai Bingin, Pecatu, Kec. Kuta Sel., Kab...</td>\n",
       "      <td>4</td>\n",
       "      <td>4</td>\n",
       "      <td>Start from $5,590 USD per Month</td>\n",
       "      <td>Bohemian Beachfront Surf Villa by the Bingin B...</td>\n",
       "    </tr>\n",
       "  </tbody>\n",
       "</table>\n",
       "</div>"
      ],
      "text/plain": [
       "                                             Address Bathroom Bedroom  \\\n",
       "0  Jl. Ped - Buyuk, Banjar Bodong, Desa Ped, Kec ...        1       1   \n",
       "1  Jalan Raya Ped Banjar Bodong Desa Ped Nusa Pen...        1       1   \n",
       "2    Jl. Batumulapan, Batununggul, Kec. Nusa Penida,        1       1   \n",
       "3  Jl. Pantai Bingin, Pecatu, Kuta Sel., Kabupate...        1       1   \n",
       "4  Jl. Pantai Bingin, Pecatu, Kec. Kuta Sel., Kab...        4       4   \n",
       "\n",
       "                             Price  \\\n",
       "0     Start from USD $41 per night   \n",
       "1         Start from $23 per night   \n",
       "2     Start from $29 USD per night   \n",
       "3  Start from $1,060 USD per Month   \n",
       "4  Start from $5,590 USD per Month   \n",
       "\n",
       "                                               Title  \n",
       "0                 Beachfront Bungalow w/ Sunset View  \n",
       "1  Soothing Sound of the Waves in a Beachfront Cabin  \n",
       "2  Nusa Penida New Beachfront Cottage with Cute Pool  \n",
       "3   Minimalist Room with Superb Ocean View at Bingin  \n",
       "4  Bohemian Beachfront Surf Villa by the Bingin B...  "
      ]
     },
     "execution_count": 74,
     "metadata": {},
     "output_type": "execute_result"
    }
   ],
   "source": [
    "df_scraped = pd.DataFrame(data)\n",
    "df_scraped.head()"
   ]
  },
  {
   "cell_type": "code",
   "execution_count": 75,
   "id": "18427b77",
   "metadata": {},
   "outputs": [
    {
     "data": {
      "text/plain": [
       "(212, 5)"
      ]
     },
     "execution_count": 75,
     "metadata": {},
     "output_type": "execute_result"
    }
   ],
   "source": [
    "df_scraped.shape"
   ]
  },
  {
   "cell_type": "code",
   "execution_count": null,
   "id": "1537890f",
   "metadata": {},
   "outputs": [],
   "source": []
  }
 ],
 "metadata": {
  "kernelspec": {
   "display_name": "Python 3 (ipykernel)",
   "language": "python",
   "name": "python3"
  },
  "language_info": {
   "codemirror_mode": {
    "name": "ipython",
    "version": 3
   },
   "file_extension": ".py",
   "mimetype": "text/x-python",
   "name": "python",
   "nbconvert_exporter": "python",
   "pygments_lexer": "ipython3",
   "version": "3.9.13"
  }
 },
 "nbformat": 4,
 "nbformat_minor": 5
}
